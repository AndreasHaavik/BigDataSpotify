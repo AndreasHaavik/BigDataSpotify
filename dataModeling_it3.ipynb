{
 "cells": [
  {
   "cell_type": "code",
   "execution_count": null,
   "metadata": {},
   "outputs": [],
   "source": [
    "#calculating a Dummy classfier - baseline for accuracy\n",
    "from sklearn.model_selection import train_test_split\n",
    "import numpy as np\n",
    "\n",
    "import pandas as pd\n",
    "from sklearn.model_selection import train_test_split\n",
    "\n",
    "# Print column names to inspect\n",
    "cleaned_df = pd.read_excel('SpotifyDataIt3.xlsx')\n",
    "\n",
    "print(cleaned_df.columns)\n",
    "\n"
   ]
  },
  {
   "cell_type": "markdown",
   "metadata": {},
   "source": [
    "In the code below, we initiate the training of DecisionTreeRegressor (DT) and split the data into training and test"
   ]
  },
  {
   "cell_type": "code",
   "execution_count": 73,
   "metadata": {},
   "outputs": [
    {
     "name": "stdout",
     "output_type": "stream",
     "text": [
      "Mean Squared Error: 3080239127759216.5\n",
      "Root Mean Squared Error: 55499902.0517984\n",
      "R-squared: 0.22605412631272004\n"
     ]
    }
   ],
   "source": [
    "\n",
    "from sklearn.model_selection import train_test_split\n",
    "from sklearn.tree import DecisionTreeRegressor\n",
    "from sklearn.metrics import mean_squared_error, r2_score\n",
    "\n",
    "\n",
    "# Selecting relevant columns for the model\n",
    "# Assuming 'streams' is the target variable and excluding highly categorical columns for simplicity\n",
    "relevant_columns = ['artists_num', 'album_num_tracks', 'peak_rank', 'weeks_on_chart','streams', 'danceability', 'energy', 'key', 'speechiness', 'acousticness', 'instrumentalness', 'liveness', 'valence', 'tempo','duration', 'release_year', 'release_month', 'release_day',\n",
    "'release_dayofweek', 'loudness_log', 'energy_danceability_interaction',]\n",
    "data_for_model = cleaned_df[relevant_columns]\n",
    "\n",
    "\n",
    "# Splitting the data into training and testing sets\n",
    "X = data_for_model.drop('streams', axis=1)\n",
    "y = data_for_model['streams']\n",
    "X_train, X_test, y_train, y_test = train_test_split(X, y, test_size=0.3, random_state=42)\n",
    "\n",
    "# Initializing and training the Decision Tree Regressor\n",
    "dt_regressor = DecisionTreeRegressor(max_depth=15, min_samples_split=75, min_samples_leaf=25, random_state=0)\n",
    "dt_regressor.fit(X_train, y_train)\n",
    "\n",
    "# Predicting and evaluating the model\n",
    "y_pred = dt_regressor.predict(X_test)\n",
    "mse = mean_squared_error(y_test, y_pred)\n",
    "rmse = np.sqrt(mse)\n",
    "r2 = r2_score(y_test, y_pred)\n",
    "\n",
    "\n",
    "\n",
    "print(\"Mean Squared Error:\", mse)\n",
    "print(\"Root Mean Squared Error:\", rmse)\n",
    "print(\"R-squared:\", r2)\n",
    "\n"
   ]
  },
  {
   "cell_type": "markdown",
   "metadata": {},
   "source": [
    "To optimize the model within a practical time frame, we can try a few adjustments:\n",
    "\n",
    "Let's start with a reduced and more focused hyperparameter space for the Decision Tree Regressor\n",
    "\n",
    "this method is also calling pre-pruning "
   ]
  },
  {
   "cell_type": "code",
   "execution_count": 75,
   "metadata": {},
   "outputs": [
    {
     "name": "stdout",
     "output_type": "stream",
     "text": [
      "Mean Squared Error: 3623844136784960.0\n",
      "Root Mean Squared Error: 60198373.20713044\n",
      "Test R-squared: 0.22605412631272004\n"
     ]
    }
   ],
   "source": [
    "from sklearn.tree import DecisionTreeRegressor\n",
    "from sklearn.model_selection import GridSearchCV\n",
    "from sklearn.metrics import mean_squared_error, r2_score\n",
    "\n",
    "# Define the parameter grid for Random Forest\n",
    "param_grid = {\n",
    "    'max_depth': [10, 20, 30],\n",
    "    'min_samples_split': [2, 5],\n",
    "    'min_samples_leaf': [1, 2]\n",
    "}\n",
    "\n",
    "# Initialize a Random Forest Regressor\n",
    "dt_regressor = DecisionTreeRegressor(random_state=0)\n",
    "\n",
    "# Create the GridSearchCV object\n",
    "grid_search_dt = GridSearchCV(estimator=dt_regressor, param_grid=param_grid, cv=3, n_jobs=-1, scoring='neg_mean_squared_error')\n",
    "\n",
    "# Fit GridSearchCV\n",
    "grid_search_dt.fit(X_train, y_train)\n",
    "\n",
    "# Retrieve the best Decision Tree\n",
    "best_dt_model = grid_search_dt.best_estimator_\n",
    "\n",
    "# Make predictions using the best model on the test data\n",
    "y_pred_test = best_dt_model.predict(X_test)\n",
    "\n",
    "# Calculate MSE, RMSE R-squared \n",
    "mse = mean_squared_error(y_test, y_pred_test)\n",
    "rmse = np.sqrt(mse)\n",
    "r2 = r2_score(y_test, y_pred)\n",
    "\n",
    "\n",
    "\n",
    "print(\"Mean Squared Error:\", mse)\n",
    "print(\"Root Mean Squared Error:\", rmse)\n",
    "print(\"Test R-squared:\", r2)\n"
   ]
  },
  {
   "cell_type": "markdown",
   "metadata": {},
   "source": [
    "Keep the tuning - reducing the set of parameters for tuning "
   ]
  },
  {
   "cell_type": "code",
   "execution_count": 83,
   "metadata": {},
   "outputs": [
    {
     "name": "stdout",
     "output_type": "stream",
     "text": [
      "best params: {'max_depth': 5, 'min_samples_leaf': 2, 'min_samples_split': 2}\n",
      "best_MSE_reduced: 3107075183893057.5\n",
      "best_RMSE_reduced: 55741144.443696685\n",
      "R-Squared: 0.3463084235192101\n"
     ]
    }
   ],
   "source": [
    "from sklearn.model_selection import GridSearchCV\n",
    "\n",
    "# Define a reduced set of parameters for tuning\n",
    "param_grid_reduced = {\n",
    "    'max_depth': [5, 10, 15],\n",
    "    'min_samples_split': [2, 5],\n",
    "    'min_samples_leaf': [1, 2]\n",
    "}\n",
    "\n",
    "# Create a GridSearchCV object with reduced parameter grid\n",
    "grid_search_reduced = GridSearchCV(estimator=dt_regressor, param_grid=param_grid_reduced, cv=3, n_jobs=-1, scoring='neg_mean_squared_error')\n",
    "\n",
    "# Perform the grid search\n",
    "grid_search_reduced.fit(X_train, y_train)\n",
    "\n",
    "# Best parameters and best MSE\n",
    "best_params = grid_search_reduced.best_params_\n",
    "best_mse = -grid_search_reduced.best_score_\n",
    "\n",
    "\n",
    "# Best parameters, MSE and r-squared on the test data \n",
    "best_params_reduced = grid_search_reduced.best_params_\n",
    "best_mse_reduced = -grid_search_reduced.best_score_\n",
    "best_rmse_reduced = np.sqrt(best_mse_reduced)\n",
    "best_r2 = r2_score(y_test, y_test_pred)\n",
    "\n",
    "\n",
    "print('best params:', best_params_reduced)\n",
    "print('best_MSE_reduced:', best_mse_reduced)\n",
    "print('best_RMSE_reduced:', best_rmse_reduced)\n",
    "print('R-Squared:', best_r2)"
   ]
  },
  {
   "cell_type": "markdown",
   "metadata": {},
   "source": [
    "RANDOM FORREST SECTION"
   ]
  },
  {
   "cell_type": "markdown",
   "metadata": {},
   "source": [
    "now im looking at Random Forrest Regressor "
   ]
  },
  {
   "cell_type": "code",
   "execution_count": 84,
   "metadata": {},
   "outputs": [
    {
     "name": "stdout",
     "output_type": "stream",
     "text": [
      "Mean Squared Error: 2725889735206679.5\n",
      "Root Mean Squared Error: 52210053.96670913\n",
      "R-squared: 0.3150885287843025\n"
     ]
    }
   ],
   "source": [
    "from sklearn.model_selection import train_test_split\n",
    "from sklearn.ensemble import RandomForestRegressor\n",
    "from sklearn.metrics import mean_squared_error, r2_score\n",
    "\n",
    "\n",
    "# Selecting relevant columns for the model\n",
    "# Assuming 'streams' is the target variable and excluding highly categorical columns for simplicity\n",
    "relevant_columns = ['artists_num', 'album_num_tracks', 'peak_rank', 'weeks_on_chart','streams', 'danceability', 'energy', 'key', 'speechiness', 'acousticness', 'instrumentalness', 'liveness', 'valence', 'tempo','duration', 'release_year', 'release_month', 'release_day',\n",
    "'release_dayofweek', 'loudness_log', 'energy_danceability_interaction',]\n",
    "data_for_model = cleaned_df[relevant_columns]\n",
    "\n",
    "\n",
    "# Initializing and training the Random Forrest Regressor\n",
    "rf_regressor = RandomForestRegressor(max_depth=15, min_samples_split=75, min_samples_leaf=25, random_state=0)\n",
    "rf_regressor.fit(X_train, y_train)\n",
    "\n",
    "# Predicting and evaluating the model\n",
    "y_pred = rf_regressor.predict(X_test)\n",
    "mse = mean_squared_error(y_test, y_pred)\n",
    "rmse = np.sqrt(mse)\n",
    "r2 = r2_score(y_test, y_pred)\n",
    "\n",
    "\n",
    "\n",
    "print(\"Mean Squared Error:\", mse)\n",
    "print(\"Root Mean Squared Error:\", rmse)\n",
    "print(\"R-squared:\", r2)\n",
    "\n"
   ]
  },
  {
   "cell_type": "markdown",
   "metadata": {},
   "source": [
    "To optimize the model within a practical time frame, we can try a few adjustments:\n",
    "\n",
    "Let's start with a reduced and more focused hyperparameter space for the Random Forest Regressor\n",
    "\n",
    "this method is also calling pre-pruning"
   ]
  },
  {
   "cell_type": "code",
   "execution_count": 89,
   "metadata": {},
   "outputs": [
    {
     "name": "stdout",
     "output_type": "stream",
     "text": [
      "Best Random Forest Model Parameters: {'max_depth': 30, 'min_samples_leaf': 2, 'min_samples_split': 5}\n",
      "Root Mean Squared Error: 51237551.40769241\n",
      "test MSE: 2625286674255922.5\n",
      "test R-squared: 0.3403662168707433\n"
     ]
    }
   ],
   "source": [
    "\n",
    "from sklearn.ensemble import RandomForestRegressor\n",
    "from sklearn.model_selection import GridSearchCV\n",
    "from sklearn.metrics import mean_squared_error, r2_score\n",
    "\n",
    "# Define the parameter grid for Random Forest\n",
    "param_grid = {\n",
    "    'max_depth': [10, 20, 30],\n",
    "    'min_samples_split': [2, 5],\n",
    "    'min_samples_leaf': [1, 2]\n",
    "    # Add other parameters if needed\n",
    "}\n",
    "\n",
    "# Initialize a Random Forest Regressor\n",
    "rf_regressor = RandomForestRegressor(random_state=0)\n",
    "\n",
    "# Create the GridSearchCV object\n",
    "grid_search_rf = GridSearchCV(estimator=rf_regressor, param_grid=param_grid, cv=3, n_jobs=-1, scoring='neg_mean_squared_error')\n",
    "\n",
    "# Fit GridSearchCV\n",
    "grid_search_rf.fit(X_train, y_train)\n",
    "\n",
    "# Retrieve the best Random Forest model\n",
    "best_rf_model = grid_search_rf.best_estimator_\n",
    "\n",
    "# Make predictions using the best model on the train data\n",
    "y_pred_test = best_rf_model.predict(X_test)\n",
    "\n",
    "# Calculate MSE and R-squared for the train data\n",
    "test_mse = mean_squared_error(y_test, y_pred_test)\n",
    "rmse = np.sqrt(test_mse)\n",
    "test_r2 = r2_score(y_test, y_pred_test)\n",
    "\n",
    "print(\"Best Random Forest Model Parameters:\", grid_search_rf.best_params_)\n",
    "print(\"Root Mean Squared Error:\", rmse)\n",
    "print(\"test MSE:\", test_mse)\n",
    "print(\"test R-squared:\", test_r2)\n"
   ]
  },
  {
   "cell_type": "markdown",
   "metadata": {},
   "source": [
    "Keep the tuning - reducing the set of parameters for tuning "
   ]
  },
  {
   "cell_type": "code",
   "execution_count": 90,
   "metadata": {},
   "outputs": [
    {
     "name": "stdout",
     "output_type": "stream",
     "text": [
      "Best Parameters: {'max_depth': 15, 'min_samples_leaf': 2, 'min_samples_split': 2}\n",
      "Root Mean Squared Error: 51201941.90839681\n",
      "test MSE: 2621638855190841.5\n",
      "Test R-squared: 0.34128277379904626\n"
     ]
    }
   ],
   "source": [
    "\n",
    "from sklearn.ensemble import RandomForestRegressor\n",
    "from sklearn.model_selection import GridSearchCV\n",
    "from sklearn.metrics import r2_score\n",
    "\n",
    "param_grid = {\n",
    "    'max_depth': [5, 10, 15],\n",
    "    'min_samples_split': [2, 4],\n",
    "    'min_samples_leaf': [1, 2]\n",
    "    # Add other parameters if needed\n",
    "}\n",
    "\n",
    "\n",
    "# Create a GridSearchCV object with the same parameter grid and model\n",
    "grid_search_reduced = GridSearchCV(estimator=rf_regressor, param_grid=param_grid, cv=3, n_jobs=-1, scoring='neg_mean_squared_error')\n",
    "\n",
    "# Perform the grid search\n",
    "grid_search_reduced.fit(X_train, y_train)\n",
    "\n",
    "# Retrieve the best model and its parameters\n",
    "best_rf_model_reduced = grid_search_reduced.best_estimator_\n",
    "best_params_reduced = grid_search_reduced.best_params_\n",
    "\n",
    "# Make predictions on the test data\n",
    "y_pred_test_reduced = best_rf_model_reduced.predict(X_test)\n",
    "\n",
    "# Calculate R-squared for the test data\n",
    "test_r2_reduced = r2_score(y_test, y_pred_test_reduced)\n",
    "test_mse_reduced = mean_squared_error(y_test, y_pred_test_reduced)\n",
    "rmse = np.sqrt(test_mse_reduced)\n",
    "\n",
    "print(\"Best Parameters:\", best_params_reduced)\n",
    "print(\"Root Mean Squared Error:\", rmse)\n",
    "print(\"test MSE:\", test_mse_reduced)\n",
    "print(\"Test R-squared:\", test_r2_reduced)\n"
   ]
  },
  {
   "cell_type": "markdown",
   "metadata": {},
   "source": [
    "Lets have a look at how linear regression perform:\n"
   ]
  },
  {
   "cell_type": "code",
   "execution_count": 94,
   "metadata": {},
   "outputs": [
    {
     "name": "stdout",
     "output_type": "stream",
     "text": [
      "Root Mean Squared Error: 60418432.648560435\n",
      "test MSE: 3650387003708633.5\n",
      "Test R-squared: 0.08279784727712935\n"
     ]
    }
   ],
   "source": [
    "#Importing necessary libraries and loading the dataset\n",
    "from sklearn.linear_model import LinearRegression\n",
    "from sklearn.metrics import mean_squared_error, r2_score\n",
    "\n",
    "# Initialize the Linear Regression model\n",
    "linear_model = LinearRegression()\n",
    "\n",
    "# Training the model\n",
    "linear_model.fit(X_train, y_train)\n",
    "\n",
    "# Predicting the test set results\n",
    "y_pred_linear = linear_model.predict(X_test)\n",
    "\n",
    "# Evaluating the model\n",
    "mse_linear = mean_squared_error(y_test, y_pred_linear)\n",
    "rmse_linear = np.sqrt(mse_linear)\n",
    "r2_linear = r2_score(y_test, y_pred_linear)\n",
    "\n",
    "# Returning the evaluation metrics\n",
    "\n",
    "print(\"Root Mean Squared Error:\", rmse_linear)\n",
    "print(\"test MSE:\", mse_linear )\n",
    "print(\"Test R-squared:\", r2_linear)"
   ]
  },
  {
   "cell_type": "markdown",
   "metadata": {},
   "source": [
    "First of we cross validate the linear regression model to evalute the models performance"
   ]
  },
  {
   "cell_type": "code",
   "execution_count": 95,
   "metadata": {},
   "outputs": [
    {
     "data": {
      "text/plain": [
       "array([61466224.18909626, 62199008.53080785, 59645209.04620065,\n",
       "       62158663.4592537 , 62029685.81215119])"
      ]
     },
     "execution_count": 95,
     "metadata": {},
     "output_type": "execute_result"
    }
   ],
   "source": [
    "from sklearn.model_selection import cross_val_score\n",
    "\n",
    "# Initialize the Linear Regression model\n",
    "linear_model = LinearRegression()\n",
    "\n",
    "# Perform cross-validation\n",
    "cv_scores = cross_val_score(linear_model, X, y, cv=5, scoring='neg_mean_squared_error')\n",
    "\n",
    "# Convert MSE scores to RMSE scores\n",
    "rmse_scores = np.sqrt(-cv_scores)\n",
    "\n",
    "# Output the cross-validation RMSE scores\n",
    "rmse_scores"
   ]
  },
  {
   "cell_type": "code",
   "execution_count": 96,
   "metadata": {},
   "outputs": [
    {
     "name": "stdout",
     "output_type": "stream",
     "text": [
      "MSE (Lasso): 3650387071617491.0, RMSE (Lasso): 60418433.21054834, R-squared (Lasso): 0.08279783021423981\n"
     ]
    }
   ],
   "source": [
    "from sklearn.linear_model import Lasso\n",
    "from sklearn.metrics import mean_squared_error, r2_score\n",
    "from sklearn.linear_model import LassoCV\n",
    "\n",
    "# Start by finding the best alpha for the L1 regression to optimize the model\n",
    "# Setting up a range of alpha values to test\n",
    "alphas = np.logspace(-4, 0.01, 10)\n",
    "\n",
    "# Initialize and train the LassoCV model to find the best alpha\n",
    "lasso_cv_model = LassoCV(alphas=alphas, cv=5, random_state=42)\n",
    "lasso_cv_model.fit(X_train, y_train)\n",
    "\n",
    "# Optimal alpha found by LassoCV\n",
    "optimal_alpha = lasso_cv_model.alpha_\n",
    "\n",
    "# Initialize the Lasso regression model (L1 regularization)\n",
    "# Setting the alpha to the optimal alpha found above\n",
    "lasso_model = Lasso(alpha=optimal_alpha, random_state=30)\n",
    "\n",
    "# Training the Lasso regression model\n",
    "lasso_model.fit(X_train, y_train)\n",
    "\n",
    "# Predicting the test set results\n",
    "y_pred_lasso = lasso_model.predict(X_test)\n",
    "\n",
    "# Evaluating the model\n",
    "mse_lasso = mean_squared_error(y_test, y_pred_lasso)\n",
    "rmse_lasso = np.sqrt(mse_lasso)\n",
    "r2_lasso = r2_score(y_test, y_pred_lasso)\n",
    "\n",
    "print(f'MSE (Lasso): {mse_lasso}, RMSE (Lasso): {rmse_lasso}, R-squared (Lasso): {r2_lasso}')"
   ]
  },
  {
   "cell_type": "markdown",
   "metadata": {},
   "source": [
    "To try further explore the model and make it better we implement a GridSearch for the Lasso regression model below:"
   ]
  },
  {
   "cell_type": "code",
   "execution_count": 97,
   "metadata": {},
   "outputs": [
    {
     "data": {
      "text/plain": [
       "{'alpha': 100, 'max_iter': 1000, 'tol': 0.0001}"
      ]
     },
     "execution_count": 97,
     "metadata": {},
     "output_type": "execute_result"
    }
   ],
   "source": [
    "from sklearn.model_selection import GridSearchCV\n",
    "from sklearn.linear_model import Lasso\n",
    "\n",
    "# Assuming X_train, y_train, X_test, y_test are already defined\n",
    "# Define the parameter grid for GridSearch\n",
    "param_grid = {\n",
    "    'alpha': [0.1, 1, 10, 100],\n",
    "    'max_iter': [1000, 5000, 10000],\n",
    "    'tol': [0.0001, 0.001, 0.01]\n",
    "}\n",
    "\n",
    "# Create GridSearchCV object\n",
    "grid_search = GridSearchCV(estimator=Lasso(random_state=42), param_grid=param_grid, \n",
    "                           scoring='neg_mean_squared_error', cv=5)\n",
    "\n",
    "# Fit GridSearchCV\n",
    "grid_search.fit(X_train, y_train)\n",
    "\n",
    "# Best parameters\n",
    "best_parameters = grid_search.best_params_\n",
    "\n",
    "# Output the best parameters\n",
    "best_parameters"
   ]
  },
  {
   "cell_type": "markdown",
   "metadata": {},
   "source": [
    "Here we use the \"best parameters\" to see the change in MSE, RMSE and R-squared"
   ]
  },
  {
   "cell_type": "code",
   "execution_count": 101,
   "metadata": {},
   "outputs": [
    {
     "name": "stdout",
     "output_type": "stream",
     "text": [
      "MSE (Lasso): 3650393662497365.0, RMSE (Lasso): 60418487.75414165, R-squared (Lasso): 0.08279617417908447\n"
     ]
    }
   ],
   "source": [
    "# Initialize the Lasso regression model with the best parameters\n",
    "best_lasso_model = Lasso(**best_parameters, random_state=42)\n",
    "\n",
    "# Training the Lasso regression model with the best parameters\n",
    "best_lasso_model.fit(X_train, y_train)\n",
    "\n",
    "# Predicting the test set results using the best model\n",
    "y_pred_best_lasso = best_lasso_model.predict(X_test)\n",
    "\n",
    "# Evaluating the best model\n",
    "mse_best_lasso = mean_squared_error(y_test, y_pred_best_lasso)\n",
    "rmse_best_lasso = np.sqrt(mse_best_lasso)\n",
    "r2_best_lasso = r2_score(y_test, y_pred_best_lasso)\n",
    "\n",
    "print(f'MSE (Lasso): {mse_best_lasso}, RMSE (Lasso): {rmse_best_lasso}, R-squared (Lasso): {r2_best_lasso}')"
   ]
  },
  {
   "cell_type": "markdown",
   "metadata": {},
   "source": [
    "Now we try to experiment with gradiant booster regressor "
   ]
  },
  {
   "cell_type": "code",
   "execution_count": 102,
   "metadata": {},
   "outputs": [
    {
     "name": "stdout",
     "output_type": "stream",
     "text": [
      "MSE (gbr): 2871076330363802.5, RMSE (gbr): 53582425.57372522, R-squared (gbr): 0.27860870966119944\n"
     ]
    }
   ],
   "source": [
    "#Here we create a gradient tree boosting regressor model\n",
    "from sklearn.ensemble import GradientBoostingRegressor\n",
    "from sklearn.metrics import mean_squared_error, r2_score\n",
    "\n",
    "# Initialize and train the Gradient Boosting Regressor\n",
    "gbr_model = GradientBoostingRegressor(n_estimators=100, learning_rate=0.1, max_depth=3, random_state=42)\n",
    "gbr_model.fit(X_train, y_train)\n",
    "\n",
    "# Predicting and evaluating the model\n",
    "y_pred_gbr = gbr_model.predict(X_test)\n",
    "mse_gbr = mean_squared_error(y_test, y_pred_gbr)\n",
    "rmse_gbr = np.sqrt(mse_gbr)\n",
    "r2_gbr = r2_score(y_test, y_pred_gbr)\n",
    "\n",
    "mse_gbr, rmse_gbr, r2_gbr\n",
    "print(f'MSE (gbr): {mse_gbr}, RMSE (gbr): {rmse_gbr}, R-squared (gbr): {r2_gbr}')"
   ]
  },
  {
   "cell_type": "markdown",
   "metadata": {},
   "source": [
    "Now we implement random search for Gradient Booster Regressor"
   ]
  },
  {
   "cell_type": "code",
   "execution_count": 103,
   "metadata": {},
   "outputs": [
    {
     "name": "stdout",
     "output_type": "stream",
     "text": [
      "Fitting 5 folds for each of 10 candidates, totalling 50 fits\n",
      "MSE (Best GBR): 2590181037793240.0, RMSE (Best GBR): 50893821.21430106, R-squared (Best GBR): 0.3491869159647206\n",
      "Best Parameters: {'learning_rate': 0.13022300234864176, 'max_depth': 5, 'min_samples_leaf': 3, 'min_samples_split': 7, 'n_estimators': 102, 'subsample': 0.9939819704323989}\n"
     ]
    }
   ],
   "source": [
    "from sklearn.model_selection import RandomizedSearchCV\n",
    "from sklearn.ensemble import GradientBoostingRegressor\n",
    "from scipy.stats import uniform, randint\n",
    "import numpy as np\n",
    "\n",
    "# Assuming X_train, y_train, X_test, y_test are already defined\n",
    "\n",
    "# Define the parameter distributions for RandomizedSearchCV\n",
    "param_distributions = {\n",
    "    'n_estimators': randint(50, 300),\n",
    "    'learning_rate': uniform(0.01, 0.2),\n",
    "    'max_depth': randint(2, 6),\n",
    "    'min_samples_split': randint(2, 10),\n",
    "    'min_samples_leaf': randint(1, 5),\n",
    "    'subsample': uniform(0.8, 0.2)\n",
    "}\n",
    "\n",
    "# Create RandomizedSearchCV object for GradientBoostingRegressor\n",
    "random_search_gbr = RandomizedSearchCV(estimator=GradientBoostingRegressor(random_state=42), \n",
    "                                       param_distributions=param_distributions, \n",
    "                                       n_iter=10, \n",
    "                                       scoring='neg_mean_squared_error', \n",
    "                                       cv=5, \n",
    "                                       random_state=42,\n",
    "                                       verbose=1)\n",
    "\n",
    "# Fit RandomizedSearchCV\n",
    "random_search_gbr.fit(X_train, y_train)\n",
    "\n",
    "# Best parameters\n",
    "best_parameters_gbr = random_search_gbr.best_params_\n",
    "\n",
    "# Using the best parameters to train and evaluate the model\n",
    "best_gbr_model = GradientBoostingRegressor(**best_parameters_gbr, random_state=42)\n",
    "best_gbr_model.fit(X_train, y_train)\n",
    "\n",
    "# Predicting and evaluating the best model\n",
    "y_pred_best_gbr = best_gbr_model.predict(X_test)\n",
    "mse_best_gbr = mean_squared_error(y_test, y_pred_best_gbr)\n",
    "rmse_best_gbr = np.sqrt(mse_best_gbr)\n",
    "r2_best_gbr = r2_score(y_test, y_pred_best_gbr)\n",
    "\n",
    "# Print the evaluation metrics for the best model\n",
    "print(f'MSE (Best GBR): {mse_best_gbr}, RMSE (Best GBR): {rmse_best_gbr}, R-squared (Best GBR): {r2_best_gbr}')\n",
    "print(f'Best Parameters: {best_parameters_gbr}')"
   ]
  },
  {
   "cell_type": "markdown",
   "metadata": {},
   "source": [
    "Now we wanna try to do the same, but using XGBoost Regressor \n"
   ]
  },
  {
   "cell_type": "code",
   "execution_count": 104,
   "metadata": {},
   "outputs": [
    {
     "data": {
      "text/plain": [
       "(2836900423627351.0, 53262561.18163443, 0.287195803357863)"
      ]
     },
     "execution_count": 104,
     "metadata": {},
     "output_type": "execute_result"
    }
   ],
   "source": [
    "#Implementing a XGBoost model\n",
    "import xgboost as xgb\n",
    "\n",
    "# Initialize and train the XGBoost Regressor\n",
    "xgb_model = xgb.XGBRegressor(objective='reg:squarederror', n_estimators=100, learning_rate=0.1, max_depth=3, random_state=42)\n",
    "xgb_model.fit(X_train, y_train)\n",
    "\n",
    "# Predicting and evaluating the model\n",
    "y_pred_xgb = xgb_model.predict(X_test)\n",
    "mse_xgb = mean_squared_error(y_test, y_pred_xgb)\n",
    "rmse_xgb = np.sqrt(mse_xgb)\n",
    "r2_xgb = r2_score(y_test, y_pred_xgb)\n",
    "\n",
    "mse_xgb, rmse_xgb, r2_xgb"
   ]
  },
  {
   "cell_type": "markdown",
   "metadata": {},
   "source": [
    "Here we use gridsearch to further investigate and tune the XGBoost model"
   ]
  },
  {
   "cell_type": "code",
   "execution_count": 106,
   "metadata": {},
   "outputs": [
    {
     "name": "stdout",
     "output_type": "stream",
     "text": [
      "Fitting 5 folds for each of 729 candidates, totalling 3645 fits\n",
      "Best Mean Square Error: 2534497509003570.5\n",
      "Best Root Mean Square Error: 50343793.15271715\n",
      "Best R-squared: 0.3631780496240292\n"
     ]
    }
   ],
   "source": [
    "from xgboost import XGBRegressor\n",
    "from sklearn.model_selection import GridSearchCV\n",
    "\n",
    "# Define a range of hyperparameters for GridSearch\n",
    "param_grid = {\n",
    "    'n_estimators': [100, 200, 300],\n",
    "    'learning_rate': [0.01, 0.05, 0.1],\n",
    "    'max_depth': [3, 4, 5],\n",
    "    'subsample': [0.8, 0.9, 1.0],\n",
    "    'colsample_bytree': [0.8, 0.9, 1.0],\n",
    "    'gamma': [0, 0.1, 0.2]\n",
    "}\n",
    "\n",
    "# Create GridSearchCV object for XGBRegressor\n",
    "grid_search_xgb = GridSearchCV(estimator=XGBRegressor(random_state=42), \n",
    "                               param_grid=param_grid, \n",
    "                               scoring='neg_mean_squared_error', \n",
    "                               cv=5, \n",
    "                               verbose=1)\n",
    "\n",
    "# Fit GridSearchCV\n",
    "grid_search_xgb.fit(X_train, y_train)\n",
    "\n",
    "# Best parameters\n",
    "best_parameters_xgb = grid_search_xgb.best_params_\n",
    "\n",
    "# Output the best parameters\n",
    "best_parameters_xgb\n",
    "\n",
    "# Using the best parameters to train and evaluate the model\n",
    "best_xgb_model = XGBRegressor(**best_parameters_xgb, random_state=42)\n",
    "best_xgb_model.fit(X_train, y_train)\n",
    "\n",
    "# Predicting and evaluating the best model\n",
    "y_pred_best_xgb = best_xgb_model.predict(X_test)\n",
    "mse_best_xgb = mean_squared_error(y_test, y_pred_best_xgb)\n",
    "rmse_best_xgb = np.sqrt(mse_best_xgb)\n",
    "r2_best_xgb = r2_score(y_test, y_pred_best_xgb)\n",
    "\n",
    "# Print the evaluation metrics for the best model\n",
    "print('Best Mean Square Error:', mse_best_xgb) \n",
    "print('Best Root Mean Square Error:', rmse_best_xgb) \n",
    "print('Best R-squared:', r2_best_xgb)\n",
    "\n"
   ]
  }
 ],
 "metadata": {
  "kernelspec": {
   "display_name": "base",
   "language": "python",
   "name": "python3"
  },
  "language_info": {
   "codemirror_mode": {
    "name": "ipython",
    "version": 3
   },
   "file_extension": ".py",
   "mimetype": "text/x-python",
   "name": "python",
   "nbconvert_exporter": "python",
   "pygments_lexer": "ipython3",
   "version": "3.11.4"
  }
 },
 "nbformat": 4,
 "nbformat_minor": 2
}
