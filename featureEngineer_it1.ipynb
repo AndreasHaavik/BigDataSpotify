{
 "cells": [
  {
   "cell_type": "code",
   "execution_count": 4,
   "metadata": {},
   "outputs": [],
   "source": [
    "import pandas as pd\n",
    "cleaned_df = pd.read_excel('./SpotifyDataCleaned.xlsx')"
   ]
  },
  {
   "cell_type": "code",
   "execution_count": 10,
   "metadata": {},
   "outputs": [
    {
     "name": "stdout",
     "output_type": "stream",
     "text": [
      "Index(['artists_num', 'collab', 'release_date', 'album_num_tracks', 'source',\n",
      "       'peak_rank', 'weeks_on_chart', 'streams', 'danceability', 'energy',\n",
      "       'key', 'loudness', 'speechiness', 'acousticness', 'instrumentalness',\n",
      "       'liveness', 'valence', 'tempo', 'duration'],\n",
      "      dtype='object')\n"
     ]
    }
   ],
   "source": [
    "print(cleaned_df.columns)"
   ]
  },
  {
   "cell_type": "markdown",
   "metadata": {},
   "source": [
    "It gives me an error when i try to drop column artist_names and artist_genre, thats why i make an if else statement. "
   ]
  },
  {
   "cell_type": "code",
   "execution_count": null,
   "metadata": {},
   "outputs": [],
   "source": [
    "# Check if the columns exist in the DataFrame and then drop them\n",
    "if 'artist_names' in cleaned_df.columns and 'artist_genre' in cleaned_df.columns and 'release_date' in cleaned_df.columns:\n",
    "    cleaned_df = cleaned_df.drop(['artist_names', 'artist_genre'], axis=1)\n",
    "else:\n",
    "    print(\"One or both columns not found in the DataFrame.\")\n",
    "\n",
    "# Display the first few rows of the DataFrame to confirm the changes\n",
    "cleaned_df.head()"
   ]
  },
  {
   "cell_type": "code",
   "execution_count": 21,
   "metadata": {},
   "outputs": [],
   "source": [
    "cleaned_df.to_excel('SpotifyDataEngineer.xlsx')\n"
   ]
  },
  {
   "cell_type": "code",
   "execution_count": null,
   "metadata": {},
   "outputs": [],
   "source": [
    "print(cleaned_df.columns)"
   ]
  }
 ],
 "metadata": {
  "kernelspec": {
   "display_name": "base",
   "language": "python",
   "name": "python3"
  },
  "language_info": {
   "codemirror_mode": {
    "name": "ipython",
    "version": 3
   },
   "file_extension": ".py",
   "mimetype": "text/x-python",
   "name": "python",
   "nbconvert_exporter": "python",
   "pygments_lexer": "ipython3",
   "version": "3.11.4"
  }
 },
 "nbformat": 4,
 "nbformat_minor": 2
}
