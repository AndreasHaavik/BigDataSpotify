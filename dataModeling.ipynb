{
 "cells": [
  {
   "cell_type": "code",
   "execution_count": 13,
   "metadata": {},
   "outputs": [],
   "source": [
    "#calculating a Dummy classfier - baseline for accuracy\n",
    "from sklearn.model_selection import train_test_split\n",
    "import numpy as np\n",
    "\n",
    "import pandas as pd\n",
    "from sklearn.model_selection import train_test_split\n",
    "\n",
    "# Print column names to inspect\n",
    "cleaned_df = pd.read_excel('SpotifyDataCleaned.xlsx')\n"
   ]
  },
  {
   "cell_type": "code",
   "execution_count": 14,
   "metadata": {},
   "outputs": [
    {
     "name": "stdout",
     "output_type": "stream",
     "text": [
      "Index(['artists_num', 'collab', 'album_num_tracks', 'peak_rank',\n",
      "       'weeks_on_chart', 'streams', 'danceability', 'energy', 'key',\n",
      "       'loudness', 'speechiness', 'acousticness', 'instrumentalness',\n",
      "       'liveness', 'valence', 'tempo', 'duration'],\n",
      "      dtype='object')\n",
      "X_train shape: (18379, 16)\n",
      "X_test shape: (7878, 16)\n",
      "y_train shape: (18379,)\n",
      "y_test shape: (7878,)\n"
     ]
    }
   ],
   "source": [
    "print(cleaned_df.columns)\n",
    "\n",
    "# Separate features (X) and labels (y)\n",
    "X = cleaned_df[['artists_num','collab', 'album_num_tracks', 'peak_rank','weeks_on_chart', 'danceability', 'energy', 'key','loudness', 'speechiness', 'acousticness', 'instrumentalness', 'liveness', 'valence', 'tempo', 'duration']]\n",
    "y = cleaned_df['streams']  \n",
    "\n",
    "# Split the dataset into 70% training and 30% test\n",
    "X_train, X_test, y_train, y_test = train_test_split(X, y, test_size=0.3, random_state=42)\n",
    "\n",
    "# Display the shapes of the resulting sets\n",
    "print(\"X_train shape:\", X_train.shape)\n",
    "print(\"X_test shape:\", X_test.shape)\n",
    "print(\"y_train shape:\", y_train.shape)\n",
    "print(\"y_test shape:\", y_test.shape)\n"
   ]
  },
  {
   "cell_type": "code",
   "execution_count": 15,
   "metadata": {},
   "outputs": [
    {
     "name": "stdout",
     "output_type": "stream",
     "text": [
      "Mean Squared Error of the dummy regressor: 31474014057368556.00\n",
      "Root Mean Squared Error (RMSE): 177409171.29\n"
     ]
    }
   ],
   "source": [
    "from sklearn.dummy import DummyRegressor\n",
    "from sklearn.metrics import mean_squared_error\n",
    "import numpy as np\n",
    "# Create a dummy regressor (we create a regressor because we want to predict a numeric target variable)\n",
    "dummy_regressor = DummyRegressor(strategy='mean')  # You can also use 'median' or 'quantile'\n",
    "\n",
    "# Train the dummy regressor\n",
    "dummy_regressor.fit(X_train, y_train)\n",
    "\n",
    "# Make predictions on the test set\n",
    "y_pred = dummy_regressor.predict(X_test)\n",
    "\n",
    "# Evaluate the dummy regressor using mean squared error\n",
    "mse = mean_squared_error(y_test, y_pred)\n",
    "rmse = np.sqrt(mse)\n",
    "\n",
    "print(f\"Mean Squared Error of the dummy regressor: {mse:.2f}\")\n",
    "print(f\"Root Mean Squared Error (RMSE): {rmse:.2f}\")"
   ]
  },
  {
   "cell_type": "code",
   "execution_count": 16,
   "metadata": {},
   "outputs": [
    {
     "data": {
      "text/plain": [
       "(2.921563735466976e+16, 170925824.13043898, 0.07175350431649485)"
      ]
     },
     "execution_count": 16,
     "metadata": {},
     "output_type": "execute_result"
    }
   ],
   "source": [
    "#Importing necessary libraries and loading the dataset\n",
    "from sklearn.linear_model import LinearRegression\n",
    "from sklearn.metrics import mean_squared_error, r2_score\n",
    "\n",
    "# Initialize the Linear Regression model\n",
    "linear_model = LinearRegression()\n",
    "\n",
    "# Training the model\n",
    "linear_model.fit(X_train, y_train)\n",
    "\n",
    "# Predicting the test set results\n",
    "y_pred_linear = linear_model.predict(X_test)\n",
    "\n",
    "# Evaluating the model\n",
    "mse_linear = mean_squared_error(y_test, y_pred_linear)\n",
    "rmse_linear = np.sqrt(mse_linear)\n",
    "r2_linear = r2_score(y_test, y_pred_linear)\n",
    "\n",
    "# Returning the evaluation metrics\n",
    "mse_linear, rmse_linear, r2_linear\n"
   ]
  },
  {
   "cell_type": "code",
   "execution_count": 17,
   "metadata": {},
   "outputs": [
    {
     "data": {
      "text/plain": [
       "(2.92157537102652e+16, 170926164.4987835, 0.07174980743757997)"
      ]
     },
     "execution_count": 17,
     "metadata": {},
     "output_type": "execute_result"
    }
   ],
   "source": [
    "from sklearn.linear_model import Ridge\n",
    "\n",
    "# Since the dataset and train-test split have already been prepared earlier, we can directly proceed to train a Ridge regression model (L2 regularization).\n",
    "\n",
    "# Initialize the Ridge regression model\n",
    "# The alpha parameter controls the strength of the regularization\n",
    "# A larger alpha means more regularization and simplicity of the model\n",
    "ridge_model = Ridge(alpha=1.0, random_state=42)\n",
    "\n",
    "# Training the Ridge regression model\n",
    "ridge_model.fit(X_train, y_train)\n",
    "\n",
    "# Predicting the test set results\n",
    "y_pred_ridge = ridge_model.predict(X_test)\n",
    "\n",
    "# Evaluating the model\n",
    "mse_ridge = mean_squared_error(y_test, y_pred_ridge)\n",
    "rmse_ridge = np.sqrt(mse_ridge)\n",
    "r2_ridge = r2_score(y_test, y_pred_ridge)\n",
    "\n",
    "# Returning the evaluation metrics\n",
    "mse_ridge, rmse_ridge, r2_ridge"
   ]
  }
 ],
 "metadata": {
  "kernelspec": {
   "display_name": "Python 3.11.4 ('base')",
   "language": "python",
   "name": "python3"
  },
  "language_info": {
   "codemirror_mode": {
    "name": "ipython",
    "version": 3
   },
   "file_extension": ".py",
   "mimetype": "text/x-python",
   "name": "python",
   "nbconvert_exporter": "python",
   "pygments_lexer": "ipython3",
   "version": "3.11.4"
  },
  "orig_nbformat": 4,
  "vscode": {
   "interpreter": {
    "hash": "9e8995cc79525bd2f03bf06fe7351d86fcc477a350b98b661267de2f13aa6250"
   }
  }
 },
 "nbformat": 4,
 "nbformat_minor": 2
}
