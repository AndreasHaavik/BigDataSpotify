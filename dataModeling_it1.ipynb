{
 "cells": [
  {
   "cell_type": "code",
   "execution_count": 4,
   "metadata": {},
   "outputs": [
    {
     "name": "stdout",
     "output_type": "stream",
     "text": [
      "Index(['artist_names', 'artists_num', 'artist_genre', 'collab', 'release_date',\n",
      "       'album_num_tracks', 'source', 'peak_rank', 'weeks_on_chart', 'streams',\n",
      "       'danceability', 'energy', 'key', 'loudness', 'speechiness',\n",
      "       'acousticness', 'instrumentalness', 'liveness', 'valence', 'tempo',\n",
      "       'duration'],\n",
      "      dtype='object')\n"
     ]
    }
   ],
   "source": [
    "import numpy as np\n",
    "import pandas as pd\n",
    "from sklearn.model_selection import train_test_split\n",
    "from sklearn.model_selection import train_test_split\n",
    "\n",
    "# Print column names to inspect if everything looks fine \n",
    "cleaned_df = pd.read_excel('SpotifyDataCleaned.xlsx')\n",
    "\n",
    "print(cleaned_df.columns)\n"
   ]
  },
  {
   "cell_type": "markdown",
   "metadata": {},
   "source": [
    "In the code below, we initiate the training of DecisionTreeRegressor (DT) and split the data into training and test and then test the model with the test set "
   ]
  },
  {
   "cell_type": "code",
   "execution_count": 25,
   "metadata": {},
   "outputs": [
    {
     "name": "stdout",
     "output_type": "stream",
     "text": [
      "Mean Squared Error: 3.094456422473954e+16\n",
      "Root Mean Squared Error: 175910671.15084162\n",
      "R-squared: 0.016821609832981088\n"
     ]
    }
   ],
   "source": [
    "from sklearn.model_selection import train_test_split\n",
    "from sklearn.tree import DecisionTreeRegressor\n",
    "from sklearn.metrics import mean_squared_error, r2_score\n",
    "\n",
    "\n",
    "# Selecting relevant columns for the model\n",
    "# Assuming 'streams' is the target variable and excluding highly categorical columns for simplicity\n",
    "relevant_columns = ['artists_num', 'collab', 'album_num_tracks', 'peak_rank', 'weeks_on_chart', 'streams',\n",
    "                    'danceability', 'energy', 'key', 'loudness', 'speechiness', 'acousticness', 'instrumentalness',\n",
    "                    'liveness', 'valence', 'tempo', 'duration']\n",
    "data_for_model = cleaned_df[relevant_columns]\n",
    "\n",
    "\n",
    "# Splitting the data into training and testing sets\n",
    "X = data_for_model.drop('streams', axis=1)\n",
    "y = data_for_model['streams']\n",
    "X_train, X_test, y_train, y_test = train_test_split(X, y, test_size=0.3, random_state=42)\n",
    "\n",
    "# Initializing and training the Decision Tree Regressor and adjusting model complexity\n",
    "dt_regressor = DecisionTreeRegressor(max_depth=10, min_samples_split=60, min_samples_leaf=15, random_state=0)\n",
    "dt_regressor.fit(X_train, y_train)\n",
    "\n",
    "# Predicting and evaluating the model\n",
    "y_pred = dt_regressor.predict(X_test)\n",
    "mse = mean_squared_error(y_test, y_pred)\n",
    "rmse = np.sqrt(mse)  \n",
    "r2 = r2_score(y_test, y_pred)\n",
    "\n",
    "\n",
    "print(\"Mean Squared Error:\", mse)\n",
    "print(\"Root Mean Squared Error:\", rmse)\n",
    "print(\"R-squared:\", r2)\n"
   ]
  },
  {
   "cell_type": "markdown",
   "metadata": {},
   "source": [
    "this section below enable testing on how the DT performance is on the test data "
   ]
  },
  {
   "cell_type": "markdown",
   "metadata": {},
   "source": [
    "We wanna do the same approach but for the random forrest regression model. We are training the model on the training set"
   ]
  },
  {
   "cell_type": "code",
   "execution_count": 26,
   "metadata": {},
   "outputs": [
    {
     "name": "stdout",
     "output_type": "stream",
     "text": [
      "Mean Squared Error: 3.094456422473954e+16\n",
      "Root Mean Squared Error: 175910671.15084162\n",
      "R-squared: 0.016821609832981088\n"
     ]
    }
   ],
   "source": [
    "import pandas as pd\n",
    "from sklearn.ensemble import RandomForestRegressor\n",
    "\n",
    "# Initializing and training the Random Forest Regressor\n",
    "rf_regressor = RandomForestRegressor(max_depth=15, min_samples_split=75, min_samples_leaf=25, random_state=0)\n",
    "rf_regressor.fit(X_train, y_train)\n",
    "\n",
    "# Predicting and evaluating the model\n",
    "y_pred = dt_regressor.predict(X_test)\n",
    "mse = mean_squared_error(y_test, y_pred)\n",
    "rmse = np.sqrt(mse)  \n",
    "r2 = r2_score(y_test, y_pred)\n",
    "\n",
    "\n",
    "print(\"Mean Squared Error:\", mse)\n",
    "print(\"Root Mean Squared Error:\", rmse)\n",
    "print(\"R-squared:\", r2)\n",
    "\n",
    "\n",
    "\n",
    "\n"
   ]
  }
 ],
 "metadata": {
  "kernelspec": {
   "display_name": "Python 3.11.4 ('base')",
   "language": "python",
   "name": "python3"
  },
  "language_info": {
   "codemirror_mode": {
    "name": "ipython",
    "version": 3
   },
   "file_extension": ".py",
   "mimetype": "text/x-python",
   "name": "python",
   "nbconvert_exporter": "python",
   "pygments_lexer": "ipython3",
   "version": "3.11.4"
  },
  "orig_nbformat": 4,
  "vscode": {
   "interpreter": {
    "hash": "9e8995cc79525bd2f03bf06fe7351d86fcc477a350b98b661267de2f13aa6250"
   }
  }
 },
 "nbformat": 4,
 "nbformat_minor": 2
}
