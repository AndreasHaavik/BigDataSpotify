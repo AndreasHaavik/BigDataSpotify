{
 "cells": [
  {
   "cell_type": "code",
   "execution_count": 1,
   "metadata": {},
   "outputs": [
    {
     "data": {
      "text/plain": [
       "((26257, 22), (25840, 22))"
      ]
     },
     "execution_count": 1,
     "metadata": {},
     "output_type": "execute_result"
    }
   ],
   "source": [
    "#Feature engineering - iteration 2 - remove outliers\n",
    "\n",
    "import pandas as pd\n",
    "import numpy as np\n",
    "from scipy import stats\n",
    "\n",
    "# Load the dataset again\n",
    "file_path = './SpotifyDataEngineer.xlsx'\n",
    "it3_data = pd.read_excel(file_path)\n",
    "\n",
    "# Considering 'streams' as the target variable for outlier detection\n",
    "target_variable = 'streams'\n",
    "\n",
    "# Detecting outliers in the target variable using Z-scores\n",
    "z_scores = np.abs(stats.zscore(it3_data[target_variable]))\n",
    "\n",
    "# Define a threshold for identifying outliers (commonly a Z-score of 3 or more is considered as an outlier)\n",
    "threshold = 3\n",
    "outlier_indices = np.where(z_scores > threshold)\n",
    "\n",
    "# Removing the outliers from the dataset\n",
    "it3_data_cleaned = it3_data.drop(outlier_indices[0])\n",
    "\n",
    "# Shape of the data before and after outlier removal\n",
    "data_shape_before = it3_data.shape\n",
    "data_shape_after = it3_data_cleaned.shape\n",
    "\n",
    "data_shape_before, data_shape_after"
   ]
  },
  {
   "cell_type": "code",
   "execution_count": 2,
   "metadata": {},
   "outputs": [],
   "source": [
    "#create new excel file without outliers\n",
    "it3_data_cleaned.to_excel('SpotifyDataIt3.xlsx', index=False)\n",
    "\n"
   ]
  }
 ],
 "metadata": {
  "kernelspec": {
   "display_name": "Python 3.11.4 ('base')",
   "language": "python",
   "name": "python3"
  },
  "language_info": {
   "codemirror_mode": {
    "name": "ipython",
    "version": 3
   },
   "file_extension": ".py",
   "mimetype": "text/x-python",
   "name": "python",
   "nbconvert_exporter": "python",
   "pygments_lexer": "ipython3",
   "version": "3.11.4"
  },
  "orig_nbformat": 4,
  "vscode": {
   "interpreter": {
    "hash": "9e8995cc79525bd2f03bf06fe7351d86fcc477a350b98b661267de2f13aa6250"
   }
  }
 },
 "nbformat": 4,
 "nbformat_minor": 2
}
