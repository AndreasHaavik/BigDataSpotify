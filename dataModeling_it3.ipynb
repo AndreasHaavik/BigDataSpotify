{
 "cells": [
  {
   "cell_type": "code",
   "execution_count": 37,
   "metadata": {},
   "outputs": [
    {
     "name": "stdout",
     "output_type": "stream",
     "text": [
      "Index(['artists_num', 'album_num_tracks', 'peak_rank', 'weeks_on_chart',\n",
      "       'streams', 'danceability', 'energy', 'key', 'speechiness',\n",
      "       'acousticness', 'instrumentalness', 'liveness', 'valence', 'tempo',\n",
      "       'duration', 'release_year', 'release_month', 'release_day',\n",
      "       'release_dayofweek', 'loudness_log', 'energy_danceability_interaction'],\n",
      "      dtype='object')\n"
     ]
    },
    {
     "data": {
      "text/html": [
       "<div>\n",
       "<style scoped>\n",
       "    .dataframe tbody tr th:only-of-type {\n",
       "        vertical-align: middle;\n",
       "    }\n",
       "\n",
       "    .dataframe tbody tr th {\n",
       "        vertical-align: top;\n",
       "    }\n",
       "\n",
       "    .dataframe thead th {\n",
       "        text-align: right;\n",
       "    }\n",
       "</style>\n",
       "<table border=\"1\" class=\"dataframe\">\n",
       "  <thead>\n",
       "    <tr style=\"text-align: right;\">\n",
       "      <th></th>\n",
       "      <th>artists_num</th>\n",
       "      <th>album_num_tracks</th>\n",
       "      <th>peak_rank</th>\n",
       "      <th>weeks_on_chart</th>\n",
       "      <th>streams</th>\n",
       "      <th>danceability</th>\n",
       "      <th>energy</th>\n",
       "      <th>key</th>\n",
       "      <th>speechiness</th>\n",
       "      <th>acousticness</th>\n",
       "      <th>...</th>\n",
       "      <th>liveness</th>\n",
       "      <th>valence</th>\n",
       "      <th>tempo</th>\n",
       "      <th>duration</th>\n",
       "      <th>release_year</th>\n",
       "      <th>release_month</th>\n",
       "      <th>release_day</th>\n",
       "      <th>release_dayofweek</th>\n",
       "      <th>loudness_log</th>\n",
       "      <th>energy_danceability_interaction</th>\n",
       "    </tr>\n",
       "  </thead>\n",
       "  <tbody>\n",
       "    <tr>\n",
       "      <th>0</th>\n",
       "      <td>1</td>\n",
       "      <td>15</td>\n",
       "      <td>4</td>\n",
       "      <td>36.50000</td>\n",
       "      <td>37158272</td>\n",
       "      <td>0.752</td>\n",
       "      <td>0.620</td>\n",
       "      <td>5</td>\n",
       "      <td>0.0509</td>\n",
       "      <td>0.30900</td>\n",
       "      <td>...</td>\n",
       "      <td>0.0750</td>\n",
       "      <td>0.962</td>\n",
       "      <td>117.399</td>\n",
       "      <td>164459</td>\n",
       "      <td>2021</td>\n",
       "      <td>4</td>\n",
       "      <td>22</td>\n",
       "      <td>3</td>\n",
       "      <td>3.399162</td>\n",
       "      <td>0.466240</td>\n",
       "    </tr>\n",
       "    <tr>\n",
       "      <th>1</th>\n",
       "      <td>2</td>\n",
       "      <td>1</td>\n",
       "      <td>46</td>\n",
       "      <td>9.00000</td>\n",
       "      <td>215055522</td>\n",
       "      <td>0.748</td>\n",
       "      <td>0.627</td>\n",
       "      <td>7</td>\n",
       "      <td>0.0639</td>\n",
       "      <td>0.13100</td>\n",
       "      <td>...</td>\n",
       "      <td>0.0852</td>\n",
       "      <td>0.524</td>\n",
       "      <td>120.963</td>\n",
       "      <td>188491</td>\n",
       "      <td>2017</td>\n",
       "      <td>3</td>\n",
       "      <td>23</td>\n",
       "      <td>3</td>\n",
       "      <td>3.382558</td>\n",
       "      <td>0.468996</td>\n",
       "    </tr>\n",
       "    <tr>\n",
       "      <th>2</th>\n",
       "      <td>1</td>\n",
       "      <td>13</td>\n",
       "      <td>61</td>\n",
       "      <td>2.00000</td>\n",
       "      <td>48580</td>\n",
       "      <td>0.585</td>\n",
       "      <td>0.683</td>\n",
       "      <td>8</td>\n",
       "      <td>0.0523</td>\n",
       "      <td>0.73700</td>\n",
       "      <td>...</td>\n",
       "      <td>0.1140</td>\n",
       "      <td>0.493</td>\n",
       "      <td>128.018</td>\n",
       "      <td>157987</td>\n",
       "      <td>2022</td>\n",
       "      <td>2</td>\n",
       "      <td>14</td>\n",
       "      <td>0</td>\n",
       "      <td>3.454675</td>\n",
       "      <td>0.399555</td>\n",
       "    </tr>\n",
       "    <tr>\n",
       "      <th>3</th>\n",
       "      <td>1</td>\n",
       "      <td>1</td>\n",
       "      <td>112</td>\n",
       "      <td>1.50000</td>\n",
       "      <td>9944865</td>\n",
       "      <td>0.353</td>\n",
       "      <td>0.755</td>\n",
       "      <td>1</td>\n",
       "      <td>0.7330</td>\n",
       "      <td>0.08220</td>\n",
       "      <td>...</td>\n",
       "      <td>0.3900</td>\n",
       "      <td>0.437</td>\n",
       "      <td>191.153</td>\n",
       "      <td>193680</td>\n",
       "      <td>2018</td>\n",
       "      <td>6</td>\n",
       "      <td>15</td>\n",
       "      <td>4</td>\n",
       "      <td>3.374134</td>\n",
       "      <td>0.266515</td>\n",
       "    </tr>\n",
       "    <tr>\n",
       "      <th>4</th>\n",
       "      <td>1</td>\n",
       "      <td>12</td>\n",
       "      <td>44</td>\n",
       "      <td>129.30303</td>\n",
       "      <td>429376201</td>\n",
       "      <td>0.352</td>\n",
       "      <td>0.911</td>\n",
       "      <td>1</td>\n",
       "      <td>0.0747</td>\n",
       "      <td>0.00121</td>\n",
       "      <td>...</td>\n",
       "      <td>0.0995</td>\n",
       "      <td>0.236</td>\n",
       "      <td>148.033</td>\n",
       "      <td>222973</td>\n",
       "      <td>2004</td>\n",
       "      <td>1</td>\n",
       "      <td>1</td>\n",
       "      <td>3</td>\n",
       "      <td>3.409331</td>\n",
       "      <td>0.320672</td>\n",
       "    </tr>\n",
       "    <tr>\n",
       "      <th>...</th>\n",
       "      <td>...</td>\n",
       "      <td>...</td>\n",
       "      <td>...</td>\n",
       "      <td>...</td>\n",
       "      <td>...</td>\n",
       "      <td>...</td>\n",
       "      <td>...</td>\n",
       "      <td>...</td>\n",
       "      <td>...</td>\n",
       "      <td>...</td>\n",
       "      <td>...</td>\n",
       "      <td>...</td>\n",
       "      <td>...</td>\n",
       "      <td>...</td>\n",
       "      <td>...</td>\n",
       "      <td>...</td>\n",
       "      <td>...</td>\n",
       "      <td>...</td>\n",
       "      <td>...</td>\n",
       "      <td>...</td>\n",
       "      <td>...</td>\n",
       "    </tr>\n",
       "    <tr>\n",
       "      <th>25835</th>\n",
       "      <td>1</td>\n",
       "      <td>1</td>\n",
       "      <td>4</td>\n",
       "      <td>27.00000</td>\n",
       "      <td>6885448</td>\n",
       "      <td>0.812</td>\n",
       "      <td>0.634</td>\n",
       "      <td>8</td>\n",
       "      <td>0.1630</td>\n",
       "      <td>0.05640</td>\n",
       "      <td>...</td>\n",
       "      <td>0.2760</td>\n",
       "      <td>0.463</td>\n",
       "      <td>124.074</td>\n",
       "      <td>174194</td>\n",
       "      <td>2020</td>\n",
       "      <td>12</td>\n",
       "      <td>18</td>\n",
       "      <td>4</td>\n",
       "      <td>3.418218</td>\n",
       "      <td>0.514808</td>\n",
       "    </tr>\n",
       "    <tr>\n",
       "      <th>25836</th>\n",
       "      <td>3</td>\n",
       "      <td>1</td>\n",
       "      <td>7</td>\n",
       "      <td>10.00000</td>\n",
       "      <td>421278</td>\n",
       "      <td>0.792</td>\n",
       "      <td>0.469</td>\n",
       "      <td>8</td>\n",
       "      <td>0.1070</td>\n",
       "      <td>0.33300</td>\n",
       "      <td>...</td>\n",
       "      <td>0.0725</td>\n",
       "      <td>0.353</td>\n",
       "      <td>114.017</td>\n",
       "      <td>144737</td>\n",
       "      <td>2022</td>\n",
       "      <td>2</td>\n",
       "      <td>4</td>\n",
       "      <td>4</td>\n",
       "      <td>3.325360</td>\n",
       "      <td>0.371448</td>\n",
       "    </tr>\n",
       "    <tr>\n",
       "      <th>25837</th>\n",
       "      <td>1</td>\n",
       "      <td>7</td>\n",
       "      <td>40</td>\n",
       "      <td>8.50000</td>\n",
       "      <td>11300755</td>\n",
       "      <td>0.415</td>\n",
       "      <td>0.504</td>\n",
       "      <td>9</td>\n",
       "      <td>0.0318</td>\n",
       "      <td>0.02200</td>\n",
       "      <td>...</td>\n",
       "      <td>0.3630</td>\n",
       "      <td>0.401</td>\n",
       "      <td>165.860</td>\n",
       "      <td>155714</td>\n",
       "      <td>2018</td>\n",
       "      <td>10</td>\n",
       "      <td>5</td>\n",
       "      <td>4</td>\n",
       "      <td>3.237580</td>\n",
       "      <td>0.209160</td>\n",
       "    </tr>\n",
       "    <tr>\n",
       "      <th>25838</th>\n",
       "      <td>2</td>\n",
       "      <td>11</td>\n",
       "      <td>171</td>\n",
       "      <td>1.50000</td>\n",
       "      <td>13137028</td>\n",
       "      <td>0.744</td>\n",
       "      <td>0.715</td>\n",
       "      <td>0</td>\n",
       "      <td>0.3510</td>\n",
       "      <td>0.10100</td>\n",
       "      <td>...</td>\n",
       "      <td>0.0919</td>\n",
       "      <td>0.340</td>\n",
       "      <td>154.962</td>\n",
       "      <td>179773</td>\n",
       "      <td>2017</td>\n",
       "      <td>2</td>\n",
       "      <td>24</td>\n",
       "      <td>4</td>\n",
       "      <td>3.380042</td>\n",
       "      <td>0.531960</td>\n",
       "    </tr>\n",
       "    <tr>\n",
       "      <th>25839</th>\n",
       "      <td>1</td>\n",
       "      <td>9</td>\n",
       "      <td>60</td>\n",
       "      <td>6.00000</td>\n",
       "      <td>12089312</td>\n",
       "      <td>0.596</td>\n",
       "      <td>0.864</td>\n",
       "      <td>8</td>\n",
       "      <td>0.0400</td>\n",
       "      <td>0.08580</td>\n",
       "      <td>...</td>\n",
       "      <td>0.1580</td>\n",
       "      <td>0.833</td>\n",
       "      <td>169.123</td>\n",
       "      <td>167503</td>\n",
       "      <td>2021</td>\n",
       "      <td>6</td>\n",
       "      <td>24</td>\n",
       "      <td>3</td>\n",
       "      <td>3.453948</td>\n",
       "      <td>0.514944</td>\n",
       "    </tr>\n",
       "  </tbody>\n",
       "</table>\n",
       "<p>25840 rows × 21 columns</p>\n",
       "</div>"
      ],
      "text/plain": [
       "       artists_num  album_num_tracks  peak_rank  weeks_on_chart    streams  \\\n",
       "0                1                15          4        36.50000   37158272   \n",
       "1                2                 1         46         9.00000  215055522   \n",
       "2                1                13         61         2.00000      48580   \n",
       "3                1                 1        112         1.50000    9944865   \n",
       "4                1                12         44       129.30303  429376201   \n",
       "...            ...               ...        ...             ...        ...   \n",
       "25835            1                 1          4        27.00000    6885448   \n",
       "25836            3                 1          7        10.00000     421278   \n",
       "25837            1                 7         40         8.50000   11300755   \n",
       "25838            2                11        171         1.50000   13137028   \n",
       "25839            1                 9         60         6.00000   12089312   \n",
       "\n",
       "       danceability  energy  key  speechiness  acousticness  ...  liveness  \\\n",
       "0             0.752   0.620    5       0.0509       0.30900  ...    0.0750   \n",
       "1             0.748   0.627    7       0.0639       0.13100  ...    0.0852   \n",
       "2             0.585   0.683    8       0.0523       0.73700  ...    0.1140   \n",
       "3             0.353   0.755    1       0.7330       0.08220  ...    0.3900   \n",
       "4             0.352   0.911    1       0.0747       0.00121  ...    0.0995   \n",
       "...             ...     ...  ...          ...           ...  ...       ...   \n",
       "25835         0.812   0.634    8       0.1630       0.05640  ...    0.2760   \n",
       "25836         0.792   0.469    8       0.1070       0.33300  ...    0.0725   \n",
       "25837         0.415   0.504    9       0.0318       0.02200  ...    0.3630   \n",
       "25838         0.744   0.715    0       0.3510       0.10100  ...    0.0919   \n",
       "25839         0.596   0.864    8       0.0400       0.08580  ...    0.1580   \n",
       "\n",
       "       valence    tempo  duration  release_year  release_month  release_day  \\\n",
       "0        0.962  117.399    164459          2021              4           22   \n",
       "1        0.524  120.963    188491          2017              3           23   \n",
       "2        0.493  128.018    157987          2022              2           14   \n",
       "3        0.437  191.153    193680          2018              6           15   \n",
       "4        0.236  148.033    222973          2004              1            1   \n",
       "...        ...      ...       ...           ...            ...          ...   \n",
       "25835    0.463  124.074    174194          2020             12           18   \n",
       "25836    0.353  114.017    144737          2022              2            4   \n",
       "25837    0.401  165.860    155714          2018             10            5   \n",
       "25838    0.340  154.962    179773          2017              2           24   \n",
       "25839    0.833  169.123    167503          2021              6           24   \n",
       "\n",
       "       release_dayofweek  loudness_log  energy_danceability_interaction  \n",
       "0                      3      3.399162                         0.466240  \n",
       "1                      3      3.382558                         0.468996  \n",
       "2                      0      3.454675                         0.399555  \n",
       "3                      4      3.374134                         0.266515  \n",
       "4                      3      3.409331                         0.320672  \n",
       "...                  ...           ...                              ...  \n",
       "25835                  4      3.418218                         0.514808  \n",
       "25836                  4      3.325360                         0.371448  \n",
       "25837                  4      3.237580                         0.209160  \n",
       "25838                  4      3.380042                         0.531960  \n",
       "25839                  3      3.453948                         0.514944  \n",
       "\n",
       "[25840 rows x 21 columns]"
      ]
     },
     "execution_count": 37,
     "metadata": {},
     "output_type": "execute_result"
    }
   ],
   "source": [
    "#Importing relevant libraries for the further programming. \n",
    "import numpy as np\n",
    "import pandas as pd\n",
    "from sklearn.model_selection import train_test_split\n",
    "\n",
    "#Read Dataset\n",
    "cleaned_df = pd.read_excel('SpotifyDataIt3.xlsx')\n",
    "\n",
    "# Print column names to inspect\n",
    "print(cleaned_df.columns)\n",
    "\n",
    "cleaned_df"
   ]
  },
  {
   "cell_type": "markdown",
   "metadata": {},
   "source": [
    "In the code below, we initiate the training of DecisionTreeRegressor (DT) and split the data into training and test"
   ]
  },
  {
   "cell_type": "code",
   "execution_count": 38,
   "metadata": {},
   "outputs": [
    {
     "name": "stdout",
     "output_type": "stream",
     "text": [
      "Mean Squared Error: 3157696158114045.0\n",
      "Root Mean Squared Error: 56193381.79994193\n",
      "R-squared: 0.2433036819444082\n"
     ]
    }
   ],
   "source": [
    "\n",
    "from sklearn.model_selection import train_test_split\n",
    "from sklearn.tree import DecisionTreeRegressor\n",
    "from sklearn.metrics import mean_squared_error, r2_score\n",
    "\n",
    "\n",
    "# Selecting relevant columns for the model\n",
    "# 'streams' is the target variable and excluding highly categorical columns for simplicity\n",
    "relevant_columns = ['artists_num', 'album_num_tracks', 'peak_rank', 'weeks_on_chart','streams', 'danceability', 'energy', 'key', 'speechiness', 'acousticness', 'instrumentalness', 'liveness', 'valence', 'tempo','duration', 'release_year', 'release_month', 'release_day',\n",
    "'release_dayofweek', 'loudness_log', 'energy_danceability_interaction',]\n",
    "data_for_model = cleaned_df[relevant_columns]\n",
    "\n",
    "\n",
    "# Splitting the data into training and testing sets\n",
    "X = data_for_model.drop('streams', axis=1)\n",
    "y = data_for_model['streams']\n",
    "\n",
    "# Test size is 30% and training are 70%\n",
    "X_train, X_test, y_train, y_test = train_test_split(X, y, test_size=0.2, random_state=42)\n",
    "\n",
    "# Initializing and training the Decision Tree Regressor and adjusting model complexity\n",
    "# Models complexity have been selected based on several tries, and what performed the \"best\".\n",
    "dt_regressor = DecisionTreeRegressor(max_depth=5, min_samples_split=20, min_samples_leaf=15, random_state=0)\n",
    "\n",
    "#Fitting the model\n",
    "dt_regressor.fit(X_train, y_train)\n",
    "\n",
    "# Predicting and evaluating the model\n",
    "y_pred = dt_regressor.predict(X_test)\n",
    "\n",
    "#Calculating MSE, RMSE and R-squared \n",
    "mse = mean_squared_error(y_test, y_pred)\n",
    "rmse = np.sqrt(mse)\n",
    "r2 = r2_score(y_test, y_pred)\n",
    "\n",
    "# Returning the evaluation metrics\n",
    "print(\"Mean Squared Error:\", mse)\n",
    "print(\"Root Mean Squared Error:\", rmse)\n",
    "print(\"R-squared:\", r2)"
   ]
  },
  {
   "cell_type": "markdown",
   "metadata": {},
   "source": [
    "To optimize the model within a practical time frame, we can try a few adjustments:\n",
    "\n",
    "Let's start with a reduced and more focused hyperparameter space for the Decision Tree Regressor\n",
    "\n",
    "this method is also calling pre-pruning "
   ]
  },
  {
   "cell_type": "code",
   "execution_count": 39,
   "metadata": {},
   "outputs": [
    {
     "name": "stdout",
     "output_type": "stream",
     "text": [
      "Mean Squared Error: 3157891529306692.0\n",
      "Root Mean Squared Error: 56195120.15563889\n",
      "Test R-squared: 0.2433036819444082\n"
     ]
    }
   ],
   "source": [
    "#Importing gridseachCV for further optimization of the model. \n",
    "from sklearn.model_selection import GridSearchCV\n",
    "\n",
    "# Define the parameter grid for Decision tree\n",
    "param_grid = {\n",
    "    'max_depth': [5, 10, 15, 20, 25, 30],\n",
    "    'min_samples_split': [2, 3, 4, 5],\n",
    "    'min_samples_leaf': [1, 2]\n",
    "}\n",
    "\n",
    "# Initialize a Random Forest Regressor\n",
    "dt_regressor = DecisionTreeRegressor(random_state=0)\n",
    "\n",
    "# Create the GridSearchCV object\n",
    "grid_search_dt = GridSearchCV(estimator=dt_regressor, param_grid=param_grid, cv=3, n_jobs=-1, scoring='neg_mean_squared_error')\n",
    "\n",
    "# Fitting the GridSearchCV\n",
    "grid_search_dt.fit(X_train, y_train)\n",
    "\n",
    "# Retrieve the best estimators Decision Tree \n",
    "best_dt_model = grid_search_dt.best_estimator_\n",
    "\n",
    "# Make predictions using the best model on the test data\n",
    "y_pred_test = best_dt_model.predict(X_test)\n",
    "\n",
    "# Calculate MSE, RMSE R-squared \n",
    "mse = mean_squared_error(y_test, y_pred_test)\n",
    "rmse = np.sqrt(mse)\n",
    "r2 = r2_score(y_test, y_pred)\n",
    "\n",
    "\n",
    "# Returning the evaluation metrics\n",
    "print(\"Mean Squared Error:\", mse)\n",
    "print(\"Root Mean Squared Error:\", rmse)\n",
    "print(\"Test R-squared:\", r2)"
   ]
  },
  {
   "cell_type": "markdown",
   "metadata": {},
   "source": [
    "Keep the tuning - reducing the set of parameters for tuning "
   ]
  },
  {
   "cell_type": "code",
   "execution_count": 24,
   "metadata": {},
   "outputs": [
    {
     "name": "stdout",
     "output_type": "stream",
     "text": [
      "best params: {'max_depth': 6, 'min_samples_leaf': 2, 'min_samples_split': 5}\n",
      "best_MSE_reduced: 3139394975750538.0\n",
      "best_RMSE_reduced: 56030304.084044896\n",
      "R-Squared: 0.2432568640573387\n"
     ]
    }
   ],
   "source": [
    "# Define a reduced set of parameters for tuning\n",
    "param_grid_reduced = {\n",
    "    'max_depth': [1, 3, 6],\n",
    "    'min_samples_split': [2, 5],\n",
    "    'min_samples_leaf': [1, 2]\n",
    "}\n",
    "\n",
    "# Create a GridSearchCV object with reduced parameter grid that are declared above\n",
    "grid_search_reduced = GridSearchCV(estimator=dt_regressor, param_grid=param_grid_reduced, cv=3, n_jobs=-1, scoring='neg_mean_squared_error')\n",
    "\n",
    "# Perform the grid search\n",
    "grid_search_reduced.fit(X_train, y_train)\n",
    "\n",
    "# Best parameters and best MSE \n",
    "best_params = grid_search_reduced.best_params_\n",
    "best_mse = -grid_search_reduced.best_score_\n",
    "\n",
    "\n",
    "# Best parameters, MSE and r-squared on the test data \n",
    "best_params_reduced = grid_search_reduced.best_params_\n",
    "best_mse_reduced = -grid_search_reduced.best_score_\n",
    "best_rmse_reduced = np.sqrt(best_mse_reduced)\n",
    "best_r2 = r2_score(y_test, y_pred_test)\n",
    "\n",
    "# Returning the evaluation metrics\n",
    "print('best params:', best_params_reduced)\n",
    "print('best_MSE_reduced:', best_mse_reduced)\n",
    "print('best_RMSE_reduced:', best_rmse_reduced)\n",
    "print('R-Squared:', best_r2)"
   ]
  },
  {
   "cell_type": "markdown",
   "metadata": {},
   "source": [
    "Lets look at Random Forrest Regressor "
   ]
  },
  {
   "cell_type": "markdown",
   "metadata": {},
   "source": [
    "We wanna do the same approach as above but for the random forrest regression model. We are training the model on the training set, and evaluating the performance"
   ]
  },
  {
   "cell_type": "code",
   "execution_count": 25,
   "metadata": {},
   "outputs": [
    {
     "name": "stdout",
     "output_type": "stream",
     "text": [
      "Mean Squared Error: 2845150055654778.5\n",
      "Root Mean Squared Error: 53339948.0282347\n",
      "R-squared: 0.31820084529112025\n"
     ]
    }
   ],
   "source": [
    "# import relevant libraries to training Random Forest Regressor. \n",
    "from sklearn.ensemble import RandomForestRegressor\n",
    "\n",
    "\n",
    "# X and y have been defined in the code above. \n",
    "\n",
    "# Initializing and training the Random Forrest Regressor and adjusting model complexity\n",
    "# Models complexity have been selected based on several tries, and what performed the \"best\".\n",
    "rf_regressor = RandomForestRegressor(max_depth=15, min_samples_split=75, min_samples_leaf=25, random_state=0)\n",
    "\n",
    "# Fitting the model\n",
    "rf_regressor.fit(X_train, y_train)\n",
    "\n",
    "# Predicting and evaluating the model\n",
    "y_pred = rf_regressor.predict(X_test)\n",
    "mse = mean_squared_error(y_test, y_pred)\n",
    "rmse = np.sqrt(mse)\n",
    "r2 = r2_score(y_test, y_pred)\n",
    "\n",
    "\n",
    "# Returning the evaluation metrics\n",
    "print(\"Mean Squared Error:\", mse)\n",
    "print(\"Root Mean Squared Error:\", rmse)\n",
    "print(\"R-squared:\", r2)"
   ]
  },
  {
   "cell_type": "markdown",
   "metadata": {},
   "source": [
    "To optimize the model within a practical time frame we are trying with the following:\n",
    " \n",
    "reduced and more focused hyperparameter space for the Random Forest Regressor\n",
    "\n",
    "this method is also calling pre-pruning"
   ]
  },
  {
   "cell_type": "code",
   "execution_count": 26,
   "metadata": {},
   "outputs": [
    {
     "name": "stdout",
     "output_type": "stream",
     "text": [
      "Best Random Forest Model Parameters: {'max_depth': 20, 'min_samples_leaf': 2, 'min_samples_split': 5}\n",
      "Root Mean Squared Error: 52157749.4295785\n",
      "test MSE: 2720430825558696.0\n",
      "test R-squared: 0.34808800905826354\n"
     ]
    }
   ],
   "source": [
    "#Libraries and other code have been declared the code snippets above.\n",
    "\n",
    "# Define the parameter grid for Random Forest\n",
    "param_grid = {\n",
    "    'max_depth': [10, 20, 30],\n",
    "    'min_samples_split': [2, 5],\n",
    "    'min_samples_leaf': [1, 2]\n",
    "}\n",
    "\n",
    "# Initialize a Random Forest Regressor\n",
    "rf_regressor = RandomForestRegressor(random_state=0)\n",
    "\n",
    "# Create the GridSearchCV object\n",
    "grid_search_rf = GridSearchCV(estimator=rf_regressor, param_grid=param_grid, cv=3, n_jobs=-1, scoring='neg_mean_squared_error')\n",
    "\n",
    "# Fit GridSearchCV\n",
    "grid_search_rf.fit(X_train, y_train)\n",
    "\n",
    "# Retrieve the best Random Forest model\n",
    "best_rf_model = grid_search_rf.best_estimator_\n",
    "\n",
    "# Make predictions using the best model on the test data\n",
    "y_pred_test = best_rf_model.predict(X_test)\n",
    "\n",
    "# Calculate MSE and R-squared for the test data\n",
    "test_mse = mean_squared_error(y_test, y_pred_test)\n",
    "rmse = np.sqrt(test_mse)\n",
    "test_r2 = r2_score(y_test, y_pred_test)\n",
    "\n",
    "# Returning the evaluation metrics\n",
    "print(\"Best Random Forest Model Parameters:\", grid_search_rf.best_params_)\n",
    "print(\"Root Mean Squared Error:\", rmse)\n",
    "print(\"test MSE:\", test_mse)\n",
    "print(\"test R-squared:\", test_r2)\n"
   ]
  },
  {
   "cell_type": "markdown",
   "metadata": {},
   "source": [
    "Keep the tuning - reducing the set of parameters for tuning "
   ]
  },
  {
   "cell_type": "code",
   "execution_count": 27,
   "metadata": {},
   "outputs": [
    {
     "name": "stdout",
     "output_type": "stream",
     "text": [
      "Best Parameters: {'max_depth': 15, 'min_samples_leaf': 2, 'min_samples_split': 2}\n",
      "Root Mean Squared Error: 52154295.856008254\n",
      "test MSE: 2720070576236040.0\n",
      "Test R-squared: 0.34817433760996275\n"
     ]
    }
   ],
   "source": [
    "#Libraries and other relevant code have been declared the snippets above.\n",
    "\n",
    "param_grid = {\n",
    "    'max_depth': [5, 10, 15],\n",
    "    'min_samples_split': [2, 4],\n",
    "    'min_samples_leaf': [1, 2]\n",
    "}\n",
    "\n",
    "\n",
    "# Create a GridSearchCV object with the same parameter grid and model\n",
    "grid_search_reduced = GridSearchCV(estimator=rf_regressor, param_grid=param_grid, cv=3, n_jobs=-1, scoring='neg_mean_squared_error')\n",
    "\n",
    "# Perform the grid search\n",
    "grid_search_reduced.fit(X_train, y_train)\n",
    "\n",
    "# Retrieve the best model and its parameters\n",
    "best_rf_model_reduced = grid_search_reduced.best_estimator_\n",
    "best_params_reduced = grid_search_reduced.best_params_\n",
    "\n",
    "# Make predictions on the test data\n",
    "y_pred_test_reduced = best_rf_model_reduced.predict(X_test)\n",
    "\n",
    "# Calculate R-squared for the test data\n",
    "test_r2_reduced = r2_score(y_test, y_pred_test_reduced)\n",
    "test_mse_reduced = mean_squared_error(y_test, y_pred_test_reduced)\n",
    "rmse = np.sqrt(test_mse_reduced)\n",
    "\n",
    "# Returning the evaluation metrics\n",
    "print(\"Best Parameters:\", best_params_reduced)\n",
    "print(\"Root Mean Squared Error:\", rmse)\n",
    "print(\"test MSE:\", test_mse_reduced)\n",
    "print(\"Test R-squared:\", test_r2_reduced)"
   ]
  },
  {
   "cell_type": "markdown",
   "metadata": {},
   "source": [
    "Lets have a look at how linear regression perform:\n"
   ]
  },
  {
   "cell_type": "code",
   "execution_count": 94,
   "metadata": {},
   "outputs": [
    {
     "name": "stdout",
     "output_type": "stream",
     "text": [
      "Root Mean Squared Error: 60418432.648560435\n",
      "test MSE: 3650387003708633.5\n",
      "Test R-squared: 0.08279784727712935\n"
     ]
    }
   ],
   "source": [
    "#Importing necessary libraries and loading the dataset\n",
    "from sklearn.linear_model import LinearRegression\n",
    "\n",
    "\n",
    "# Initialize the Linear Regression model\n",
    "linear_model = LinearRegression()\n",
    "\n",
    "# Training the model\n",
    "linear_model.fit(X_train, y_train)\n",
    "\n",
    "# Predicting the test set results\n",
    "y_pred_linear = linear_model.predict(X_test)\n",
    "\n",
    "# Evaluating the model\n",
    "mse_linear = mean_squared_error(y_test, y_pred_linear)\n",
    "rmse_linear = np.sqrt(mse_linear)\n",
    "r2_linear = r2_score(y_test, y_pred_linear)\n",
    "\n",
    "# Returning the evaluation metrics\n",
    "print(\"Root Mean Squared Error:\", rmse_linear)\n",
    "print(\"test MSE:\", mse_linear )\n",
    "print(\"Test R-squared:\", r2_linear)"
   ]
  },
  {
   "cell_type": "markdown",
   "metadata": {},
   "source": [
    "First of we cross validate the linear regression model to evalute the models performance, because GridSearchCV is not a possibility. "
   ]
  },
  {
   "cell_type": "code",
   "execution_count": 95,
   "metadata": {},
   "outputs": [
    {
     "data": {
      "text/plain": [
       "array([61466224.18909626, 62199008.53080785, 59645209.04620065,\n",
       "       62158663.4592537 , 62029685.81215119])"
      ]
     },
     "execution_count": 95,
     "metadata": {},
     "output_type": "execute_result"
    }
   ],
   "source": [
    "from sklearn.model_selection import cross_val_score\n",
    "\n",
    "# Initialize the Linear Regression model\n",
    "linear_model = LinearRegression()\n",
    "\n",
    "# Perform cross-validation\n",
    "cv_scores = cross_val_score(linear_model, X, y, cv=5, scoring='neg_mean_squared_error')\n",
    "\n",
    "# Convert MSE scores to RMSE scores\n",
    "rmse_scores = np.sqrt(-cv_scores)\n",
    "\n",
    "# Output the cross-validation RMSE scores\n",
    "rmse_scores\n",
    "\n"
   ]
  },
  {
   "cell_type": "code",
   "execution_count": 29,
   "metadata": {},
   "outputs": [
    {
     "data": {
      "image/png": "[encoded data removed]",
      "text/plain": [
       "<Figure size 640x480 with 1 Axes>"
      ]
     },
     "metadata": {},
     "output_type": "display_data"
    }
   ],
   "source": [
    "import numpy as np\n",
    "import matplotlib.pyplot as plt\n",
    "from sklearn.linear_model import LinearRegression\n",
    "from sklearn.model_selection import cross_val_predict\n",
    "\n",
    "# Assuming X and y are already defined\n",
    "\n",
    "# Initialize the Linear Regression model\n",
    "linear_model = LinearRegression()\n",
    "\n",
    "# Get cross-validated predictions\n",
    "y_pred = cross_val_predict(linear_model, X, y, cv=5)\n",
    "\n",
    "# Calculate residuals\n",
    "residuals = y - y_pred\n",
    "\n",
    "# Plotting the residuals\n",
    "plt.scatter(y_pred, residuals)\n",
    "plt.axhline(y=0, color='r', linestyle='--')\n",
    "plt.xlabel('Predicted Values')\n",
    "plt.ylabel('Residuals')\n",
    "plt.title('Residuals vs. Predicted Values')\n",
    "plt.show()\n"
   ]
  },
  {
   "cell_type": "markdown",
   "metadata": {},
   "source": [
    "Now lets look how the Lasso perform compared to linear regression "
   ]
  },
  {
   "cell_type": "code",
   "execution_count": 28,
   "metadata": {},
   "outputs": [
    {
     "name": "stdout",
     "output_type": "stream",
     "text": [
      "MSE (Lasso): 3823608305186181.0, RMSE (Lasso): 61835332.17494818, R-squared (Lasso): 0.0837274451544402\n"
     ]
    }
   ],
   "source": [
    "from sklearn.linear_model import Lasso\n",
    "from sklearn.linear_model import LassoCV\n",
    "\n",
    "# Start by finding the best alpha for the L1 regression to optimize the model\n",
    "# Setting up a range of alpha values to test\n",
    "alphas = np.logspace(-4, 0.01, 10)\n",
    "\n",
    "# Initialize and train the LassoCV model to find the best alpha\n",
    "lasso_cv_model = LassoCV(alphas=alphas, cv=5, random_state=42)\n",
    "lasso_cv_model.fit(X_train, y_train)\n",
    "\n",
    "# Optimal alpha found by LassoCV\n",
    "optimal_alpha = lasso_cv_model.alpha_\n",
    "\n",
    "# Initialize the Lasso regression model (L1 regularization)\n",
    "# Setting the alpha to the optimal alpha found above\n",
    "lasso_model = Lasso(alpha=optimal_alpha, random_state=30)\n",
    "\n",
    "# Training the Lasso regression model\n",
    "lasso_model.fit(X_train, y_train)\n",
    "\n",
    "# Predicting the test set results\n",
    "y_pred_lasso = lasso_model.predict(X_test)\n",
    "\n",
    "# Evaluating the model\n",
    "mse_lasso = mean_squared_error(y_test, y_pred_lasso)\n",
    "rmse_lasso = np.sqrt(mse_lasso)\n",
    "r2_lasso = r2_score(y_test, y_pred_lasso)\n",
    "\n",
    "# Returning the evaluation metrics\n",
    "print(f'MSE (Lasso): {mse_lasso}, RMSE (Lasso): {rmse_lasso}, R-squared (Lasso): {r2_lasso}')"
   ]
  },
  {
   "cell_type": "markdown",
   "metadata": {},
   "source": [
    "To try further explore the model and make it better we implement a GridSearch for the Lasso regression model below:"
   ]
  },
  {
   "cell_type": "code",
   "execution_count": 97,
   "metadata": {},
   "outputs": [
    {
     "data": {
      "text/plain": [
       "{'alpha': 100, 'max_iter': 1000, 'tol': 0.0001}"
      ]
     },
     "execution_count": 97,
     "metadata": {},
     "output_type": "execute_result"
    }
   ],
   "source": [
    "from sklearn.model_selection import GridSearchCV\n",
    "from sklearn.linear_model import Lasso\n",
    "\n",
    "# X_train, y_train, X_test, y_test are already defined\n",
    "\n",
    "# Define the parameter grid for GridSearch\n",
    "param_grid = {\n",
    "    'alpha': [0.1, 1, 10, 100],\n",
    "    'max_iter': [1000, 5000, 10000],\n",
    "    'tol': [0.0001, 0.001, 0.01]\n",
    "}\n",
    "\n",
    "# Create GridSearchCV object\n",
    "grid_search = GridSearchCV(estimator=Lasso(random_state=42), param_grid=param_grid, \n",
    "                           scoring='neg_mean_squared_error', cv=5)\n",
    "\n",
    "# Fit GridSearchCV\n",
    "grid_search.fit(X_train, y_train)\n",
    "\n",
    "# Best parameters\n",
    "best_parameters = grid_search.best_params_\n",
    "\n",
    "# Output the best parameters\n",
    "best_parameters"
   ]
  },
  {
   "cell_type": "markdown",
   "metadata": {},
   "source": [
    "Here we use the \"best parameters\" to see the change in MSE, RMSE and R-squared"
   ]
  },
  {
   "cell_type": "code",
   "execution_count": 101,
   "metadata": {},
   "outputs": [
    {
     "name": "stdout",
     "output_type": "stream",
     "text": [
      "MSE (Lasso): 3650393662497365.0, RMSE (Lasso): 60418487.75414165, R-squared (Lasso): 0.08279617417908447\n"
     ]
    }
   ],
   "source": [
    "# Initialize the Lasso regression model with the best parameters\n",
    "best_lasso_model = Lasso(**best_parameters, random_state=42)\n",
    "\n",
    "# Training the Lasso regression model with the best parameters\n",
    "best_lasso_model.fit(X_train, y_train)\n",
    "\n",
    "# Predicting the test set results using the best model\n",
    "y_pred_best_lasso = best_lasso_model.predict(X_test)\n",
    "\n",
    "# Evaluating the best model\n",
    "mse_best_lasso = mean_squared_error(y_test, y_pred_best_lasso)\n",
    "rmse_best_lasso = np.sqrt(mse_best_lasso)\n",
    "r2_best_lasso = r2_score(y_test, y_pred_best_lasso)\n",
    "\n",
    "print(f'MSE (Lasso): {mse_best_lasso}, RMSE (Lasso): {rmse_best_lasso}, R-squared (Lasso): {r2_best_lasso}')"
   ]
  },
  {
   "cell_type": "markdown",
   "metadata": {},
   "source": [
    "Now we try to experiment with Gradiant Booster Regressor to see how it perform in iteration 3"
   ]
  },
  {
   "cell_type": "code",
   "execution_count": 102,
   "metadata": {},
   "outputs": [
    {
     "name": "stdout",
     "output_type": "stream",
     "text": [
      "MSE (gbr): 2871076330363802.5, RMSE (gbr): 53582425.57372522, R-squared (gbr): 0.27860870966119944\n"
     ]
    }
   ],
   "source": [
    "#Here we create a gradient tree boosting regressor model\n",
    "from sklearn.ensemble import GradientBoostingRegressor\n",
    "\n",
    "# X_train, y_train, X_test, y_test are already defined\n",
    "\n",
    "# Initialize and train the Gradient Boosting Regressor and adjusting model complexity\n",
    "# Models complexity have been selected based on several tries, and what performed the \"best\".\n",
    "gbr_model = GradientBoostingRegressor(n_estimators=100, learning_rate=0.1, max_depth=3, random_state=42)\n",
    "gbr_model.fit(X_train, y_train)\n",
    "\n",
    "# Predicting and evaluating the model\n",
    "y_pred_gbr = gbr_model.predict(X_test)\n",
    "mse_gbr = mean_squared_error(y_test, y_pred_gbr)\n",
    "rmse_gbr = np.sqrt(mse_gbr)\n",
    "r2_gbr = r2_score(y_test, y_pred_gbr)\n",
    "\n",
    "# Returning the evaluation metrics\n",
    "print(f'MSE (gbr): {mse_gbr}, RMSE (gbr): {rmse_gbr}, R-squared (gbr): {r2_gbr}')"
   ]
  },
  {
   "cell_type": "markdown",
   "metadata": {},
   "source": [
    "Now we implement Random Search for Gradient Booster Regressor, because GridSearch was to complex for Gradient Booster. "
   ]
  },
  {
   "cell_type": "code",
   "execution_count": 103,
   "metadata": {},
   "outputs": [
    {
     "name": "stdout",
     "output_type": "stream",
     "text": [
      "Fitting 5 folds for each of 10 candidates, totalling 50 fits\n",
      "MSE (Best GBR): 2590181037793240.0, RMSE (Best GBR): 50893821.21430106, R-squared (Best GBR): 0.3491869159647206\n",
      "Best Parameters: {'learning_rate': 0.13022300234864176, 'max_depth': 5, 'min_samples_leaf': 3, 'min_samples_split': 7, 'n_estimators': 102, 'subsample': 0.9939819704323989}\n"
     ]
    }
   ],
   "source": [
    "from sklearn.model_selection import RandomizedSearchCV\n",
    "from sklearn.ensemble import GradientBoostingRegressor\n",
    "from scipy.stats import uniform, randint\n",
    "import numpy as np\n",
    "\n",
    "# X_train, y_train, X_test, y_test are already defined\n",
    "\n",
    "# Define the parameter distributions for RandomizedSearchCV\n",
    "param_distributions = {\n",
    "    'n_estimators': randint(50, 300),\n",
    "    'learning_rate': uniform(0.01, 0.2),\n",
    "    'max_depth': randint(2, 6),\n",
    "    'min_samples_split': randint(2, 10),\n",
    "    'min_samples_leaf': randint(1, 5),\n",
    "    'subsample': uniform(0.8, 0.2)\n",
    "}\n",
    "\n",
    "# Create RandomizedSearchCV object for GradientBoostingRegressor\n",
    "random_search_gbr = RandomizedSearchCV(estimator=GradientBoostingRegressor(random_state=42), \n",
    "                                       param_distributions=param_distributions, \n",
    "                                       n_iter=10, \n",
    "                                       scoring='neg_mean_squared_error', \n",
    "                                       cv=5, \n",
    "                                       random_state=42,\n",
    "                                       verbose=1)\n",
    "\n",
    "# Fit RandomizedSearchCV\n",
    "random_search_gbr.fit(X_train, y_train)\n",
    "\n",
    "# Best parameters\n",
    "best_parameters_gbr = random_search_gbr.best_params_\n",
    "\n",
    "# Using the best parameters to train and evaluate the model\n",
    "best_gbr_model = GradientBoostingRegressor(**best_parameters_gbr, random_state=42)\n",
    "best_gbr_model.fit(X_train, y_train)\n",
    "\n",
    "# Predicting and evaluating the best model\n",
    "y_pred_best_gbr = best_gbr_model.predict(X_test)\n",
    "mse_best_gbr = mean_squared_error(y_test, y_pred_best_gbr)\n",
    "rmse_best_gbr = np.sqrt(mse_best_gbr)\n",
    "r2_best_gbr = r2_score(y_test, y_pred_best_gbr)\n",
    "\n",
    "# Print the evaluation metrics for the best model\n",
    "print(f'MSE (Best GBR): {mse_best_gbr}, RMSE (Best GBR): {rmse_best_gbr}, R-squared (Best GBR): {r2_best_gbr}')\n",
    "print(f'Best Parameters: {best_parameters_gbr}')"
   ]
  },
  {
   "cell_type": "markdown",
   "metadata": {},
   "source": [
    "Now we wanna try to do the same, but using XGBoost Regressor \n"
   ]
  },
  {
   "cell_type": "code",
   "execution_count": 32,
   "metadata": {},
   "outputs": [
    {
     "name": "stdout",
     "output_type": "stream",
     "text": [
      "Mean Squared Error: 2974540718945119.0\n",
      "Root Mean Squared Error: 54539350.188145064\n",
      "R-squared: 0.28719423996876126\n"
     ]
    }
   ],
   "source": [
    "#Implementing a XGBoost model\n",
    "import xgboost as xgb\n",
    "\n",
    "# Initialize and train the XGBoost Regressor\n",
    "xgb_model = xgb.XGBRegressor(objective='reg:squarederror', n_estimators=100, learning_rate=0.1, max_depth=3, random_state=42)\n",
    "xgb_model.fit(X_train, y_train)\n",
    "\n",
    "# Predicting and evaluating the model\n",
    "y_pred_xgb = xgb_model.predict(X_test)\n",
    "mse_xgb = mean_squared_error(y_test, y_pred_xgb)\n",
    "rmse_xgb = np.sqrt(mse_xgb)\n",
    "r2_xgb = r2_score(y_test, y_pred_xgb)\n",
    "\n",
    "\n",
    "# Returning the evaluation metrics\n",
    "print(\"Mean Squared Error:\", mse_xgb)\n",
    "print(\"Root Mean Squared Error:\", rmse_xgb)\n",
    "print(\"R-squared:\", r2_xgb)"
   ]
  },
  {
   "cell_type": "markdown",
   "metadata": {},
   "source": [
    "Here we use gridsearch to further investigate and tune the XGBoost model"
   ]
  },
  {
   "cell_type": "code",
   "execution_count": 35,
   "metadata": {},
   "outputs": [
    {
     "name": "stdout",
     "output_type": "stream",
     "text": [
      "Fitting 5 folds for each of 729 candidates, totalling 3645 fits\n"
     ]
    },
    {
     "ename": "KeyboardInterrupt",
     "evalue": "",
     "output_type": "error",
     "traceback": [
      "\u001b[0;31m---------------------------------------------------------------------------\u001b[0m",
      "\u001b[0;31mKeyboardInterrupt\u001b[0m                         Traceback (most recent call last)",
      "\u001b[1;32m/Users/andreasmaskine/Desktop/CM(it)/Big Data/Big Data Eksamen/BigDataSpotify/dataModeling_it3.ipynb Cell 33\u001b[0m line \u001b[0;36m2\n\u001b[1;32m     <a href='vscode-notebook-cell:/Users/andreasmaskine/Desktop/CM%28it%29/Big%20Data/Big%20Data%20Eksamen/BigDataSpotify/dataModeling_it3.ipynb#X43sZmlsZQ%3D%3D?line=14'>15</a>\u001b[0m grid_search_xgb \u001b[39m=\u001b[39m GridSearchCV(estimator\u001b[39m=\u001b[39mXGBRegressor(random_state\u001b[39m=\u001b[39m\u001b[39m42\u001b[39m), \n\u001b[1;32m     <a href='vscode-notebook-cell:/Users/andreasmaskine/Desktop/CM%28it%29/Big%20Data/Big%20Data%20Eksamen/BigDataSpotify/dataModeling_it3.ipynb#X43sZmlsZQ%3D%3D?line=15'>16</a>\u001b[0m                                param_grid\u001b[39m=\u001b[39mparam_grid, \n\u001b[1;32m     <a href='vscode-notebook-cell:/Users/andreasmaskine/Desktop/CM%28it%29/Big%20Data/Big%20Data%20Eksamen/BigDataSpotify/dataModeling_it3.ipynb#X43sZmlsZQ%3D%3D?line=16'>17</a>\u001b[0m                                scoring\u001b[39m=\u001b[39m\u001b[39m'\u001b[39m\u001b[39mneg_mean_squared_error\u001b[39m\u001b[39m'\u001b[39m, \n\u001b[1;32m     <a href='vscode-notebook-cell:/Users/andreasmaskine/Desktop/CM%28it%29/Big%20Data/Big%20Data%20Eksamen/BigDataSpotify/dataModeling_it3.ipynb#X43sZmlsZQ%3D%3D?line=17'>18</a>\u001b[0m                                cv\u001b[39m=\u001b[39m\u001b[39m5\u001b[39m, \n\u001b[1;32m     <a href='vscode-notebook-cell:/Users/andreasmaskine/Desktop/CM%28it%29/Big%20Data/Big%20Data%20Eksamen/BigDataSpotify/dataModeling_it3.ipynb#X43sZmlsZQ%3D%3D?line=18'>19</a>\u001b[0m                                verbose\u001b[39m=\u001b[39m\u001b[39m1\u001b[39m)\n\u001b[1;32m     <a href='vscode-notebook-cell:/Users/andreasmaskine/Desktop/CM%28it%29/Big%20Data/Big%20Data%20Eksamen/BigDataSpotify/dataModeling_it3.ipynb#X43sZmlsZQ%3D%3D?line=20'>21</a>\u001b[0m \u001b[39m# Fit GridSearchCV\u001b[39;00m\n\u001b[0;32m---> <a href='vscode-notebook-cell:/Users/andreasmaskine/Desktop/CM%28it%29/Big%20Data/Big%20Data%20Eksamen/BigDataSpotify/dataModeling_it3.ipynb#X43sZmlsZQ%3D%3D?line=21'>22</a>\u001b[0m grid_search_xgb\u001b[39m.\u001b[39mfit(X_train, y_train)\n\u001b[1;32m     <a href='vscode-notebook-cell:/Users/andreasmaskine/Desktop/CM%28it%29/Big%20Data/Big%20Data%20Eksamen/BigDataSpotify/dataModeling_it3.ipynb#X43sZmlsZQ%3D%3D?line=23'>24</a>\u001b[0m \u001b[39m# Best parameters\u001b[39;00m\n\u001b[1;32m     <a href='vscode-notebook-cell:/Users/andreasmaskine/Desktop/CM%28it%29/Big%20Data/Big%20Data%20Eksamen/BigDataSpotify/dataModeling_it3.ipynb#X43sZmlsZQ%3D%3D?line=24'>25</a>\u001b[0m best_parameters_xgb \u001b[39m=\u001b[39m grid_search_xgb\u001b[39m.\u001b[39mbest_params_\n",
      "File \u001b[0;32m~/anaconda3/lib/python3.11/site-packages/sklearn/base.py:1151\u001b[0m, in \u001b[0;36m_fit_context.<locals>.decorator.<locals>.wrapper\u001b[0;34m(estimator, *args, **kwargs)\u001b[0m\n\u001b[1;32m   1144\u001b[0m     estimator\u001b[39m.\u001b[39m_validate_params()\n\u001b[1;32m   1146\u001b[0m \u001b[39mwith\u001b[39;00m config_context(\n\u001b[1;32m   1147\u001b[0m     skip_parameter_validation\u001b[39m=\u001b[39m(\n\u001b[1;32m   1148\u001b[0m         prefer_skip_nested_validation \u001b[39mor\u001b[39;00m global_skip_validation\n\u001b[1;32m   1149\u001b[0m     )\n\u001b[1;32m   1150\u001b[0m ):\n\u001b[0;32m-> 1151\u001b[0m     \u001b[39mreturn\u001b[39;00m fit_method(estimator, \u001b[39m*\u001b[39margs, \u001b[39m*\u001b[39m\u001b[39m*\u001b[39mkwargs)\n",
      "File \u001b[0;32m~/anaconda3/lib/python3.11/site-packages/sklearn/model_selection/_search.py:898\u001b[0m, in \u001b[0;36mBaseSearchCV.fit\u001b[0;34m(self, X, y, groups, **fit_params)\u001b[0m\n\u001b[1;32m    892\u001b[0m     results \u001b[39m=\u001b[39m \u001b[39mself\u001b[39m\u001b[39m.\u001b[39m_format_results(\n\u001b[1;32m    893\u001b[0m         all_candidate_params, n_splits, all_out, all_more_results\n\u001b[1;32m    894\u001b[0m     )\n\u001b[1;32m    896\u001b[0m     \u001b[39mreturn\u001b[39;00m results\n\u001b[0;32m--> 898\u001b[0m \u001b[39mself\u001b[39m\u001b[39m.\u001b[39m_run_search(evaluate_candidates)\n\u001b[1;32m    900\u001b[0m \u001b[39m# multimetric is determined here because in the case of a callable\u001b[39;00m\n\u001b[1;32m    901\u001b[0m \u001b[39m# self.scoring the return type is only known after calling\u001b[39;00m\n\u001b[1;32m    902\u001b[0m first_test_score \u001b[39m=\u001b[39m all_out[\u001b[39m0\u001b[39m][\u001b[39m\"\u001b[39m\u001b[39mtest_scores\u001b[39m\u001b[39m\"\u001b[39m]\n",
      "File \u001b[0;32m~/anaconda3/lib/python3.11/site-packages/sklearn/model_selection/_search.py:1419\u001b[0m, in \u001b[0;36mGridSearchCV._run_search\u001b[0;34m(self, evaluate_candidates)\u001b[0m\n\u001b[1;32m   1417\u001b[0m \u001b[39mdef\u001b[39;00m \u001b[39m_run_search\u001b[39m(\u001b[39mself\u001b[39m, evaluate_candidates):\n\u001b[1;32m   1418\u001b[0m \u001b[39m    \u001b[39m\u001b[39m\"\"\"Search all candidates in param_grid\"\"\"\u001b[39;00m\n\u001b[0;32m-> 1419\u001b[0m     evaluate_candidates(ParameterGrid(\u001b[39mself\u001b[39m\u001b[39m.\u001b[39mparam_grid))\n",
      "File \u001b[0;32m~/anaconda3/lib/python3.11/site-packages/sklearn/model_selection/_search.py:845\u001b[0m, in \u001b[0;36mBaseSearchCV.fit.<locals>.evaluate_candidates\u001b[0;34m(candidate_params, cv, more_results)\u001b[0m\n\u001b[1;32m    837\u001b[0m \u001b[39mif\u001b[39;00m \u001b[39mself\u001b[39m\u001b[39m.\u001b[39mverbose \u001b[39m>\u001b[39m \u001b[39m0\u001b[39m:\n\u001b[1;32m    838\u001b[0m     \u001b[39mprint\u001b[39m(\n\u001b[1;32m    839\u001b[0m         \u001b[39m\"\u001b[39m\u001b[39mFitting \u001b[39m\u001b[39m{0}\u001b[39;00m\u001b[39m folds for each of \u001b[39m\u001b[39m{1}\u001b[39;00m\u001b[39m candidates,\u001b[39m\u001b[39m\"\u001b[39m\n\u001b[1;32m    840\u001b[0m         \u001b[39m\"\u001b[39m\u001b[39m totalling \u001b[39m\u001b[39m{2}\u001b[39;00m\u001b[39m fits\u001b[39m\u001b[39m\"\u001b[39m\u001b[39m.\u001b[39mformat(\n\u001b[1;32m    841\u001b[0m             n_splits, n_candidates, n_candidates \u001b[39m*\u001b[39m n_splits\n\u001b[1;32m    842\u001b[0m         )\n\u001b[1;32m    843\u001b[0m     )\n\u001b[0;32m--> 845\u001b[0m out \u001b[39m=\u001b[39m parallel(\n\u001b[1;32m    846\u001b[0m     delayed(_fit_and_score)(\n\u001b[1;32m    847\u001b[0m         clone(base_estimator),\n\u001b[1;32m    848\u001b[0m         X,\n\u001b[1;32m    849\u001b[0m         y,\n\u001b[1;32m    850\u001b[0m         train\u001b[39m=\u001b[39mtrain,\n\u001b[1;32m    851\u001b[0m         test\u001b[39m=\u001b[39mtest,\n\u001b[1;32m    852\u001b[0m         parameters\u001b[39m=\u001b[39mparameters,\n\u001b[1;32m    853\u001b[0m         split_progress\u001b[39m=\u001b[39m(split_idx, n_splits),\n\u001b[1;32m    854\u001b[0m         candidate_progress\u001b[39m=\u001b[39m(cand_idx, n_candidates),\n\u001b[1;32m    855\u001b[0m         \u001b[39m*\u001b[39m\u001b[39m*\u001b[39mfit_and_score_kwargs,\n\u001b[1;32m    856\u001b[0m     )\n\u001b[1;32m    857\u001b[0m     \u001b[39mfor\u001b[39;00m (cand_idx, parameters), (split_idx, (train, test)) \u001b[39min\u001b[39;00m product(\n\u001b[1;32m    858\u001b[0m         \u001b[39menumerate\u001b[39m(candidate_params), \u001b[39menumerate\u001b[39m(cv\u001b[39m.\u001b[39msplit(X, y, groups))\n\u001b[1;32m    859\u001b[0m     )\n\u001b[1;32m    860\u001b[0m )\n\u001b[1;32m    862\u001b[0m \u001b[39mif\u001b[39;00m \u001b[39mlen\u001b[39m(out) \u001b[39m<\u001b[39m \u001b[39m1\u001b[39m:\n\u001b[1;32m    863\u001b[0m     \u001b[39mraise\u001b[39;00m \u001b[39mValueError\u001b[39;00m(\n\u001b[1;32m    864\u001b[0m         \u001b[39m\"\u001b[39m\u001b[39mNo fits were performed. \u001b[39m\u001b[39m\"\u001b[39m\n\u001b[1;32m    865\u001b[0m         \u001b[39m\"\u001b[39m\u001b[39mWas the CV iterator empty? \u001b[39m\u001b[39m\"\u001b[39m\n\u001b[1;32m    866\u001b[0m         \u001b[39m\"\u001b[39m\u001b[39mWere there no candidates?\u001b[39m\u001b[39m\"\u001b[39m\n\u001b[1;32m    867\u001b[0m     )\n",
      "File \u001b[0;32m~/anaconda3/lib/python3.11/site-packages/sklearn/utils/parallel.py:65\u001b[0m, in \u001b[0;36mParallel.__call__\u001b[0;34m(self, iterable)\u001b[0m\n\u001b[1;32m     60\u001b[0m config \u001b[39m=\u001b[39m get_config()\n\u001b[1;32m     61\u001b[0m iterable_with_config \u001b[39m=\u001b[39m (\n\u001b[1;32m     62\u001b[0m     (_with_config(delayed_func, config), args, kwargs)\n\u001b[1;32m     63\u001b[0m     \u001b[39mfor\u001b[39;00m delayed_func, args, kwargs \u001b[39min\u001b[39;00m iterable\n\u001b[1;32m     64\u001b[0m )\n\u001b[0;32m---> 65\u001b[0m \u001b[39mreturn\u001b[39;00m \u001b[39msuper\u001b[39m()\u001b[39m.\u001b[39m\u001b[39m__call__\u001b[39m(iterable_with_config)\n",
      "File \u001b[0;32m~/anaconda3/lib/python3.11/site-packages/joblib/parallel.py:1088\u001b[0m, in \u001b[0;36mParallel.__call__\u001b[0;34m(self, iterable)\u001b[0m\n\u001b[1;32m   1085\u001b[0m \u001b[39mif\u001b[39;00m \u001b[39mself\u001b[39m\u001b[39m.\u001b[39mdispatch_one_batch(iterator):\n\u001b[1;32m   1086\u001b[0m     \u001b[39mself\u001b[39m\u001b[39m.\u001b[39m_iterating \u001b[39m=\u001b[39m \u001b[39mself\u001b[39m\u001b[39m.\u001b[39m_original_iterator \u001b[39mis\u001b[39;00m \u001b[39mnot\u001b[39;00m \u001b[39mNone\u001b[39;00m\n\u001b[0;32m-> 1088\u001b[0m \u001b[39mwhile\u001b[39;00m \u001b[39mself\u001b[39m\u001b[39m.\u001b[39mdispatch_one_batch(iterator):\n\u001b[1;32m   1089\u001b[0m     \u001b[39mpass\u001b[39;00m\n\u001b[1;32m   1091\u001b[0m \u001b[39mif\u001b[39;00m pre_dispatch \u001b[39m==\u001b[39m \u001b[39m\"\u001b[39m\u001b[39mall\u001b[39m\u001b[39m\"\u001b[39m \u001b[39mor\u001b[39;00m n_jobs \u001b[39m==\u001b[39m \u001b[39m1\u001b[39m:\n\u001b[1;32m   1092\u001b[0m     \u001b[39m# The iterable was consumed all at once by the above for loop.\u001b[39;00m\n\u001b[1;32m   1093\u001b[0m     \u001b[39m# No need to wait for async callbacks to trigger to\u001b[39;00m\n\u001b[1;32m   1094\u001b[0m     \u001b[39m# consumption.\u001b[39;00m\n",
      "File \u001b[0;32m~/anaconda3/lib/python3.11/site-packages/joblib/parallel.py:901\u001b[0m, in \u001b[0;36mParallel.dispatch_one_batch\u001b[0;34m(self, iterator)\u001b[0m\n\u001b[1;32m    899\u001b[0m     \u001b[39mreturn\u001b[39;00m \u001b[39mFalse\u001b[39;00m\n\u001b[1;32m    900\u001b[0m \u001b[39melse\u001b[39;00m:\n\u001b[0;32m--> 901\u001b[0m     \u001b[39mself\u001b[39m\u001b[39m.\u001b[39m_dispatch(tasks)\n\u001b[1;32m    902\u001b[0m     \u001b[39mreturn\u001b[39;00m \u001b[39mTrue\u001b[39;00m\n",
      "File \u001b[0;32m~/anaconda3/lib/python3.11/site-packages/joblib/parallel.py:819\u001b[0m, in \u001b[0;36mParallel._dispatch\u001b[0;34m(self, batch)\u001b[0m\n\u001b[1;32m    817\u001b[0m \u001b[39mwith\u001b[39;00m \u001b[39mself\u001b[39m\u001b[39m.\u001b[39m_lock:\n\u001b[1;32m    818\u001b[0m     job_idx \u001b[39m=\u001b[39m \u001b[39mlen\u001b[39m(\u001b[39mself\u001b[39m\u001b[39m.\u001b[39m_jobs)\n\u001b[0;32m--> 819\u001b[0m     job \u001b[39m=\u001b[39m \u001b[39mself\u001b[39m\u001b[39m.\u001b[39m_backend\u001b[39m.\u001b[39mapply_async(batch, callback\u001b[39m=\u001b[39mcb)\n\u001b[1;32m    820\u001b[0m     \u001b[39m# A job can complete so quickly than its callback is\u001b[39;00m\n\u001b[1;32m    821\u001b[0m     \u001b[39m# called before we get here, causing self._jobs to\u001b[39;00m\n\u001b[1;32m    822\u001b[0m     \u001b[39m# grow. To ensure correct results ordering, .insert is\u001b[39;00m\n\u001b[1;32m    823\u001b[0m     \u001b[39m# used (rather than .append) in the following line\u001b[39;00m\n\u001b[1;32m    824\u001b[0m     \u001b[39mself\u001b[39m\u001b[39m.\u001b[39m_jobs\u001b[39m.\u001b[39minsert(job_idx, job)\n",
      "File \u001b[0;32m~/anaconda3/lib/python3.11/site-packages/joblib/_parallel_backends.py:208\u001b[0m, in \u001b[0;36mSequentialBackend.apply_async\u001b[0;34m(self, func, callback)\u001b[0m\n\u001b[1;32m    206\u001b[0m \u001b[39mdef\u001b[39;00m \u001b[39mapply_async\u001b[39m(\u001b[39mself\u001b[39m, func, callback\u001b[39m=\u001b[39m\u001b[39mNone\u001b[39;00m):\n\u001b[1;32m    207\u001b[0m \u001b[39m    \u001b[39m\u001b[39m\"\"\"Schedule a func to be run\"\"\"\u001b[39;00m\n\u001b[0;32m--> 208\u001b[0m     result \u001b[39m=\u001b[39m ImmediateResult(func)\n\u001b[1;32m    209\u001b[0m     \u001b[39mif\u001b[39;00m callback:\n\u001b[1;32m    210\u001b[0m         callback(result)\n",
      "File \u001b[0;32m~/anaconda3/lib/python3.11/site-packages/joblib/_parallel_backends.py:597\u001b[0m, in \u001b[0;36mImmediateResult.__init__\u001b[0;34m(self, batch)\u001b[0m\n\u001b[1;32m    594\u001b[0m \u001b[39mdef\u001b[39;00m \u001b[39m__init__\u001b[39m(\u001b[39mself\u001b[39m, batch):\n\u001b[1;32m    595\u001b[0m     \u001b[39m# Don't delay the application, to avoid keeping the input\u001b[39;00m\n\u001b[1;32m    596\u001b[0m     \u001b[39m# arguments in memory\u001b[39;00m\n\u001b[0;32m--> 597\u001b[0m     \u001b[39mself\u001b[39m\u001b[39m.\u001b[39mresults \u001b[39m=\u001b[39m batch()\n",
      "File \u001b[0;32m~/anaconda3/lib/python3.11/site-packages/joblib/parallel.py:288\u001b[0m, in \u001b[0;36mBatchedCalls.__call__\u001b[0;34m(self)\u001b[0m\n\u001b[1;32m    284\u001b[0m \u001b[39mdef\u001b[39;00m \u001b[39m__call__\u001b[39m(\u001b[39mself\u001b[39m):\n\u001b[1;32m    285\u001b[0m     \u001b[39m# Set the default nested backend to self._backend but do not set the\u001b[39;00m\n\u001b[1;32m    286\u001b[0m     \u001b[39m# change the default number of processes to -1\u001b[39;00m\n\u001b[1;32m    287\u001b[0m     \u001b[39mwith\u001b[39;00m parallel_backend(\u001b[39mself\u001b[39m\u001b[39m.\u001b[39m_backend, n_jobs\u001b[39m=\u001b[39m\u001b[39mself\u001b[39m\u001b[39m.\u001b[39m_n_jobs):\n\u001b[0;32m--> 288\u001b[0m         \u001b[39mreturn\u001b[39;00m [func(\u001b[39m*\u001b[39margs, \u001b[39m*\u001b[39m\u001b[39m*\u001b[39mkwargs)\n\u001b[1;32m    289\u001b[0m                 \u001b[39mfor\u001b[39;00m func, args, kwargs \u001b[39min\u001b[39;00m \u001b[39mself\u001b[39m\u001b[39m.\u001b[39mitems]\n",
      "File \u001b[0;32m~/anaconda3/lib/python3.11/site-packages/joblib/parallel.py:288\u001b[0m, in \u001b[0;36m<listcomp>\u001b[0;34m(.0)\u001b[0m\n\u001b[1;32m    284\u001b[0m \u001b[39mdef\u001b[39;00m \u001b[39m__call__\u001b[39m(\u001b[39mself\u001b[39m):\n\u001b[1;32m    285\u001b[0m     \u001b[39m# Set the default nested backend to self._backend but do not set the\u001b[39;00m\n\u001b[1;32m    286\u001b[0m     \u001b[39m# change the default number of processes to -1\u001b[39;00m\n\u001b[1;32m    287\u001b[0m     \u001b[39mwith\u001b[39;00m parallel_backend(\u001b[39mself\u001b[39m\u001b[39m.\u001b[39m_backend, n_jobs\u001b[39m=\u001b[39m\u001b[39mself\u001b[39m\u001b[39m.\u001b[39m_n_jobs):\n\u001b[0;32m--> 288\u001b[0m         \u001b[39mreturn\u001b[39;00m [func(\u001b[39m*\u001b[39margs, \u001b[39m*\u001b[39m\u001b[39m*\u001b[39mkwargs)\n\u001b[1;32m    289\u001b[0m                 \u001b[39mfor\u001b[39;00m func, args, kwargs \u001b[39min\u001b[39;00m \u001b[39mself\u001b[39m\u001b[39m.\u001b[39mitems]\n",
      "File \u001b[0;32m~/anaconda3/lib/python3.11/site-packages/sklearn/utils/parallel.py:127\u001b[0m, in \u001b[0;36m_FuncWrapper.__call__\u001b[0;34m(self, *args, **kwargs)\u001b[0m\n\u001b[1;32m    125\u001b[0m     config \u001b[39m=\u001b[39m {}\n\u001b[1;32m    126\u001b[0m \u001b[39mwith\u001b[39;00m config_context(\u001b[39m*\u001b[39m\u001b[39m*\u001b[39mconfig):\n\u001b[0;32m--> 127\u001b[0m     \u001b[39mreturn\u001b[39;00m \u001b[39mself\u001b[39m\u001b[39m.\u001b[39mfunction(\u001b[39m*\u001b[39margs, \u001b[39m*\u001b[39m\u001b[39m*\u001b[39mkwargs)\n",
      "File \u001b[0;32m~/anaconda3/lib/python3.11/site-packages/sklearn/model_selection/_validation.py:732\u001b[0m, in \u001b[0;36m_fit_and_score\u001b[0;34m(estimator, X, y, scorer, train, test, verbose, parameters, fit_params, return_train_score, return_parameters, return_n_test_samples, return_times, return_estimator, split_progress, candidate_progress, error_score)\u001b[0m\n\u001b[1;32m    730\u001b[0m         estimator\u001b[39m.\u001b[39mfit(X_train, \u001b[39m*\u001b[39m\u001b[39m*\u001b[39mfit_params)\n\u001b[1;32m    731\u001b[0m     \u001b[39melse\u001b[39;00m:\n\u001b[0;32m--> 732\u001b[0m         estimator\u001b[39m.\u001b[39mfit(X_train, y_train, \u001b[39m*\u001b[39m\u001b[39m*\u001b[39mfit_params)\n\u001b[1;32m    734\u001b[0m \u001b[39mexcept\u001b[39;00m \u001b[39mException\u001b[39;00m:\n\u001b[1;32m    735\u001b[0m     \u001b[39m# Note fit time as time until error\u001b[39;00m\n\u001b[1;32m    736\u001b[0m     fit_time \u001b[39m=\u001b[39m time\u001b[39m.\u001b[39mtime() \u001b[39m-\u001b[39m start_time\n",
      "File \u001b[0;32m~/anaconda3/lib/python3.11/site-packages/xgboost/core.py:729\u001b[0m, in \u001b[0;36mrequire_keyword_args.<locals>.throw_if.<locals>.inner_f\u001b[0;34m(*args, **kwargs)\u001b[0m\n\u001b[1;32m    727\u001b[0m \u001b[39mfor\u001b[39;00m k, arg \u001b[39min\u001b[39;00m \u001b[39mzip\u001b[39m(sig\u001b[39m.\u001b[39mparameters, args):\n\u001b[1;32m    728\u001b[0m     kwargs[k] \u001b[39m=\u001b[39m arg\n\u001b[0;32m--> 729\u001b[0m \u001b[39mreturn\u001b[39;00m func(\u001b[39m*\u001b[39m\u001b[39m*\u001b[39mkwargs)\n",
      "File \u001b[0;32m~/anaconda3/lib/python3.11/site-packages/xgboost/sklearn.py:1086\u001b[0m, in \u001b[0;36mXGBModel.fit\u001b[0;34m(self, X, y, sample_weight, base_margin, eval_set, eval_metric, early_stopping_rounds, verbose, xgb_model, sample_weight_eval_set, base_margin_eval_set, feature_weights, callbacks)\u001b[0m\n\u001b[1;32m   1075\u001b[0m     obj \u001b[39m=\u001b[39m \u001b[39mNone\u001b[39;00m\n\u001b[1;32m   1077\u001b[0m (\n\u001b[1;32m   1078\u001b[0m     model,\n\u001b[1;32m   1079\u001b[0m     metric,\n\u001b[0;32m   (...)\u001b[0m\n\u001b[1;32m   1084\u001b[0m     xgb_model, eval_metric, params, early_stopping_rounds, callbacks\n\u001b[1;32m   1085\u001b[0m )\n\u001b[0;32m-> 1086\u001b[0m \u001b[39mself\u001b[39m\u001b[39m.\u001b[39m_Booster \u001b[39m=\u001b[39m train(\n\u001b[1;32m   1087\u001b[0m     params,\n\u001b[1;32m   1088\u001b[0m     train_dmatrix,\n\u001b[1;32m   1089\u001b[0m     \u001b[39mself\u001b[39m\u001b[39m.\u001b[39mget_num_boosting_rounds(),\n\u001b[1;32m   1090\u001b[0m     evals\u001b[39m=\u001b[39mevals,\n\u001b[1;32m   1091\u001b[0m     early_stopping_rounds\u001b[39m=\u001b[39mearly_stopping_rounds,\n\u001b[1;32m   1092\u001b[0m     evals_result\u001b[39m=\u001b[39mevals_result,\n\u001b[1;32m   1093\u001b[0m     obj\u001b[39m=\u001b[39mobj,\n\u001b[1;32m   1094\u001b[0m     custom_metric\u001b[39m=\u001b[39mmetric,\n\u001b[1;32m   1095\u001b[0m     verbose_eval\u001b[39m=\u001b[39mverbose,\n\u001b[1;32m   1096\u001b[0m     xgb_model\u001b[39m=\u001b[39mmodel,\n\u001b[1;32m   1097\u001b[0m     callbacks\u001b[39m=\u001b[39mcallbacks,\n\u001b[1;32m   1098\u001b[0m )\n\u001b[1;32m   1100\u001b[0m \u001b[39mself\u001b[39m\u001b[39m.\u001b[39m_set_evaluation_result(evals_result)\n\u001b[1;32m   1101\u001b[0m \u001b[39mreturn\u001b[39;00m \u001b[39mself\u001b[39m\n",
      "File \u001b[0;32m~/anaconda3/lib/python3.11/site-packages/xgboost/core.py:729\u001b[0m, in \u001b[0;36mrequire_keyword_args.<locals>.throw_if.<locals>.inner_f\u001b[0;34m(*args, **kwargs)\u001b[0m\n\u001b[1;32m    727\u001b[0m \u001b[39mfor\u001b[39;00m k, arg \u001b[39min\u001b[39;00m \u001b[39mzip\u001b[39m(sig\u001b[39m.\u001b[39mparameters, args):\n\u001b[1;32m    728\u001b[0m     kwargs[k] \u001b[39m=\u001b[39m arg\n\u001b[0;32m--> 729\u001b[0m \u001b[39mreturn\u001b[39;00m func(\u001b[39m*\u001b[39m\u001b[39m*\u001b[39mkwargs)\n",
      "File \u001b[0;32m~/anaconda3/lib/python3.11/site-packages/xgboost/training.py:181\u001b[0m, in \u001b[0;36mtrain\u001b[0;34m(params, dtrain, num_boost_round, evals, obj, feval, maximize, early_stopping_rounds, evals_result, verbose_eval, xgb_model, callbacks, custom_metric)\u001b[0m\n\u001b[1;32m    179\u001b[0m \u001b[39mif\u001b[39;00m cb_container\u001b[39m.\u001b[39mbefore_iteration(bst, i, dtrain, evals):\n\u001b[1;32m    180\u001b[0m     \u001b[39mbreak\u001b[39;00m\n\u001b[0;32m--> 181\u001b[0m bst\u001b[39m.\u001b[39mupdate(dtrain, i, obj)\n\u001b[1;32m    182\u001b[0m \u001b[39mif\u001b[39;00m cb_container\u001b[39m.\u001b[39mafter_iteration(bst, i, dtrain, evals):\n\u001b[1;32m    183\u001b[0m     \u001b[39mbreak\u001b[39;00m\n",
      "File \u001b[0;32m~/anaconda3/lib/python3.11/site-packages/xgboost/core.py:2050\u001b[0m, in \u001b[0;36mBooster.update\u001b[0;34m(self, dtrain, iteration, fobj)\u001b[0m\n\u001b[1;32m   2046\u001b[0m \u001b[39mself\u001b[39m\u001b[39m.\u001b[39m_assign_dmatrix_features(dtrain)\n\u001b[1;32m   2048\u001b[0m \u001b[39mif\u001b[39;00m fobj \u001b[39mis\u001b[39;00m \u001b[39mNone\u001b[39;00m:\n\u001b[1;32m   2049\u001b[0m     _check_call(\n\u001b[0;32m-> 2050\u001b[0m         _LIB\u001b[39m.\u001b[39mXGBoosterUpdateOneIter(\n\u001b[1;32m   2051\u001b[0m             \u001b[39mself\u001b[39m\u001b[39m.\u001b[39mhandle, ctypes\u001b[39m.\u001b[39mc_int(iteration), dtrain\u001b[39m.\u001b[39mhandle\n\u001b[1;32m   2052\u001b[0m         )\n\u001b[1;32m   2053\u001b[0m     )\n\u001b[1;32m   2054\u001b[0m \u001b[39melse\u001b[39;00m:\n\u001b[1;32m   2055\u001b[0m     pred \u001b[39m=\u001b[39m \u001b[39mself\u001b[39m\u001b[39m.\u001b[39mpredict(dtrain, output_margin\u001b[39m=\u001b[39m\u001b[39mTrue\u001b[39;00m, training\u001b[39m=\u001b[39m\u001b[39mTrue\u001b[39;00m)\n",
      "\u001b[0;31mKeyboardInterrupt\u001b[0m: "
     ]
    }
   ],
   "source": [
    "from xgboost import XGBRegressor\n",
    "from sklearn.model_selection import GridSearchCV\n",
    "\n",
    "# Define a range of hyperparameters for GridSearch\n",
    "param_grid = {\n",
    "    'n_estimators': [100, 200, 300],\n",
    "    'learning_rate': [0.01, 0.05, 0.1],\n",
    "    'max_depth': [3, 4, 5],\n",
    "    'subsample': [0.8, 0.9, 1.0],\n",
    "    'colsample_bytree': [0.8, 0.9, 1.0],\n",
    "    'gamma': [0, 0.1, 0.2]\n",
    "}\n",
    "\n",
    "# Create GridSearchCV object for XGBRegressor\n",
    "grid_search_xgb = GridSearchCV(estimator=XGBRegressor(random_state=42), \n",
    "                               param_grid=param_grid, \n",
    "                               scoring='neg_mean_squared_error', \n",
    "                               cv=5, \n",
    "                               verbose=1)\n",
    "\n",
    "# Fit GridSearchCV\n",
    "grid_search_xgb.fit(X_train, y_train)\n",
    "\n",
    "# Best parameters\n",
    "best_parameters_xgb = grid_search_xgb.best_params_\n",
    "\n",
    "# Output the best parameters\n",
    "best_parameters_xgb\n",
    "\n",
    "# Using the best parameters to train and evaluate the model\n",
    "best_xgb_model = XGBRegressor(**best_parameters_xgb, random_state=42)\n",
    "best_xgb_model.fit(X_train, y_train)\n",
    "\n",
    "# Predicting and evaluating the best model\n",
    "y_pred_best_xgb = best_xgb_model.predict(X_test)\n",
    "mse_best_xgb = mean_squared_error(y_test, y_pred_best_xgb)\n",
    "rmse_best_xgb = np.sqrt(mse_best_xgb)\n",
    "r2_best_xgb = r2_score(y_test, y_pred_best_xgb)\n",
    "\n",
    "# Print the evaluation metrics for the best model\n",
    "print('Best Mean Square Error:', mse_best_xgb) \n",
    "print('Best Root Mean Square Error:', rmse_best_xgb) \n",
    "print('Best R-squared:', r2_best_xgb)\n",
    "\n"
   ]
  }
 ],
 "metadata": {
  "kernelspec": {
   "display_name": "base",
   "language": "python",
   "name": "python3"
  },
  "language_info": {
   "codemirror_mode": {
    "name": "ipython",
    "version": 3
   },
   "file_extension": ".py",
   "mimetype": "text/x-python",
   "name": "python",
   "nbconvert_exporter": "python",
   "pygments_lexer": "ipython3",
   "version": "3.11.4"
  }
 },
 "nbformat": 4,
 "nbformat_minor": 2
}
