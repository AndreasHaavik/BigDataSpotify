{
 "cells": [
  {
   "cell_type": "code",
   "execution_count": 12,
   "metadata": {},
   "outputs": [],
   "source": [
    "#calculating a Dummy classfier - baseline for accuracy\n",
    "from sklearn.model_selection import train_test_split\n",
    "import numpy as np\n",
    "\n",
    "import pandas as pd\n",
    "from sklearn.model_selection import train_test_split\n",
    "\n",
    "# Print column names to inspect\n",
    "cleaned_df = pd.read_excel('SpotifyDataCleaned.xlsx')\n"
   ]
  },
  {
   "cell_type": "code",
   "execution_count": 13,
   "metadata": {},
   "outputs": [
    {
     "name": "stdout",
     "output_type": "stream",
     "text": [
      "Index(['artist_names', 'artists_num', 'artist_genre', 'collab', 'release_date',\n",
      "       'album_num_tracks', 'source', 'peak_rank', 'weeks_on_chart', 'streams',\n",
      "       'danceability', 'energy', 'key', 'loudness', 'speechiness',\n",
      "       'acousticness', 'instrumentalness', 'liveness', 'valence', 'tempo',\n",
      "       'duration'],\n",
      "      dtype='object')\n",
      "X_train shape: (18379, 20)\n",
      "X_test shape: (7878, 20)\n",
      "y_train shape: (18379,)\n",
      "y_test shape: (7878,)\n"
     ]
    }
   ],
   "source": [
    "print(cleaned_df.columns)\n",
    "\n",
    "# Separate features (X) and labels (y)\n",
    "X = cleaned_df[['artist_names','artists_num','artist_genre','collab','release_date', 'album_num_tracks', 'source', 'peak_rank','weeks_on_chart', 'danceability', 'energy', 'key','loudness', 'speechiness', 'acousticness', 'instrumentalness', 'liveness', 'valence', 'tempo', 'duration']]\n",
    "y = cleaned_df['streams']  \n",
    "\n",
    "# Split the dataset into 70% training and 30% test\n",
    "X_train, X_test, y_train, y_test = train_test_split(X, y, test_size=0.3, random_state=42)\n",
    "\n",
    "# Display the shapes of the resulting sets\n",
    "print(\"X_train shape:\", X_train.shape)\n",
    "print(\"X_test shape:\", X_test.shape)\n",
    "print(\"y_train shape:\", y_train.shape)\n",
    "print(\"y_test shape:\", y_test.shape)\n"
   ]
  },
  {
   "cell_type": "code",
   "execution_count": 14,
   "metadata": {},
   "outputs": [
    {
     "name": "stdout",
     "output_type": "stream",
     "text": [
      "Mean Squared Error of the dummy regressor: 31474014057368556.00\n"
     ]
    }
   ],
   "source": [
    "from sklearn.dummy import DummyRegressor\n",
    "from sklearn.metrics import mean_squared_error\n",
    "# Create a dummy regressor (we create a regressor because we want to predict a numeric target variable)\n",
    "dummy_regressor = DummyRegressor(strategy='mean')  # You can also use 'median' or 'quantile'\n",
    "\n",
    "# Train the dummy regressor\n",
    "dummy_regressor.fit(X_train, y_train)\n",
    "\n",
    "# Make predictions on the test set\n",
    "y_pred = dummy_regressor.predict(X_test)\n",
    "\n",
    "# Evaluate the dummy regressor using mean squared error\n",
    "mse = mean_squared_error(y_test, y_pred)\n",
    "print(f\"Mean Squared Error of the dummy regressor: {mse:.2f}\")"
   ]
  }
 ],
 "metadata": {
  "kernelspec": {
   "display_name": "Python 3.11.4 ('base')",
   "language": "python",
   "name": "python3"
  },
  "language_info": {
   "codemirror_mode": {
    "name": "ipython",
    "version": 3
   },
   "file_extension": ".py",
   "mimetype": "text/x-python",
   "name": "python",
   "nbconvert_exporter": "python",
   "pygments_lexer": "ipython3",
   "version": "3.11.4"
  },
  "orig_nbformat": 4,
  "vscode": {
   "interpreter": {
    "hash": "9e8995cc79525bd2f03bf06fe7351d86fcc477a350b98b661267de2f13aa6250"
   }
  }
 },
 "nbformat": 4,
 "nbformat_minor": 2
}
