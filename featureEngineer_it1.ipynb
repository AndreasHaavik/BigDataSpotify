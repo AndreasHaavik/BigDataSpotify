{
 "cells": [
  {
   "cell_type": "code",
   "execution_count": 4,
   "metadata": {},
   "outputs": [],
   "source": [
    "import pandas as pd\n",
    "cleaned_df = pd.read_excel('./SpotifyDataCleaned.xlsx')"
   ]
  },
  {
   "cell_type": "markdown",
   "metadata": {},
   "source": [
    "In the first iteration, the project group found it irrelevant to include artist names and therefore remove them.\n",
    "It was also concluded to remove artist_genre and release_date because those attributes kept giving an error in the training of the models, because of the datatype was a string, and could not convert string to float. This means that the model was expecting numbers, but because of the mentioned attributes was string/object, it gave an error message instead. \n",
    "\n",
    "It gave some errors to drop column artist_names, artist_genre and release_date, thats why an if else statement was initialized. "
   ]
  },
  {
   "cell_type": "code",
   "execution_count": null,
   "metadata": {},
   "outputs": [],
   "source": [
    "# Check if the columns exist in the DataFrame and then drop them\n",
    "if 'artist_names' in cleaned_df.columns and 'artist_genre' in cleaned_df.columns and 'release_date' in cleaned_df.columns:\n",
    "    cleaned_df = cleaned_df.drop(['artist_names', 'artist_genre'], axis=1)\n",
    "else:\n",
    "    print(\"One or both columns not found in the DataFrame.\")\n",
    "\n",
    "# Display the first few rows of the DataFrame to confirm the changes\n",
    "cleaned_df.head()"
   ]
  },
  {
   "cell_type": "markdown",
   "metadata": {},
   "source": [
    "Once again, make new file for the updated dataset to work in the modeling iteration 1"
   ]
  },
  {
   "cell_type": "code",
   "execution_count": 21,
   "metadata": {},
   "outputs": [],
   "source": [
    "cleaned_df.to_excel('SpotifyDataEngineer.xlsx')\n"
   ]
  }
 ],
 "metadata": {
  "kernelspec": {
   "display_name": "base",
   "language": "python",
   "name": "python3"
  },
  "language_info": {
   "codemirror_mode": {
    "name": "ipython",
    "version": 3
   },
   "file_extension": ".py",
   "mimetype": "text/x-python",
   "name": "python",
   "nbconvert_exporter": "python",
   "pygments_lexer": "ipython3",
   "version": "3.11.4"
  }
 },
 "nbformat": 4,
 "nbformat_minor": 2
}
