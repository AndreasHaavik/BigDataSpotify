{
 "cells": [
  {
   "cell_type": "markdown",
   "metadata": {},
   "source": [
    "In the code below we initialize feature engineering for iteration 2. \n",
    "\n",
    "The important to notice is the first 3 steps where the project group makes the Date and Time Features from the attribute \"Release_date\", and extract 4 dimensions - year, month, day and day of week. Next it was found interesting to normalize loudness by making Numerical Feature Transformation, so it the values are now positive character and not from 0 to -60. \n",
    "Lastly, the project group experimentet with Interaction Feature, to see if there was some kind of relationship between danceability and Energy level. \n",
    "\n",
    "in the end of the code, 'release_date' and 'collab' got removed because release_date was  extracted to deeper dimensions and collab was not interesting anymore."
   ]
  },
  {
   "cell_type": "code",
   "execution_count": 6,
   "metadata": {},
   "outputs": [],
   "source": [
    "#import relevant libraries  \n",
    "import pandas as pd\n",
    "import numpy as np\n",
    "\n",
    "\n",
    "#Read the newest dataset.\n",
    "clean_df = pd.read_excel('./SpotifyDataCleaned.xlsx')\n",
    "\n",
    "#Then the Feature Engineering is split into several parts, and the first is time feature engineering.  \n",
    "\n",
    "# 1. Date and Time Features from 'release_date'\n",
    "clean_df['release_date'] = pd.to_datetime(clean_df['release_date'])\n",
    "#The 4 lines are extracting respectively year, month, day and dayofweek from release_Date column\n",
    "clean_df['release_year'] = clean_df['release_date'].dt.year\n",
    "clean_df['release_month'] = clean_df['release_date'].dt.month\n",
    "clean_df['release_day'] = clean_df['release_date'].dt.day\n",
    "clean_df['release_dayofweek'] = clean_df['release_date'].dt.dayofweek\n",
    "\n",
    "\n",
    "# 2. Numerical Feature Transformation\n",
    "#Log transformation of 'loudness' (ensure no zero or negative values before transformation)\n",
    "clean_df['loudness_log'] = np.log(clean_df['loudness'] - clean_df['loudness'].min() + 1)\n",
    "\n",
    "# 3. Interaction Features\n",
    "clean_df['energy_danceability_interaction'] = clean_df['energy'] * clean_df['danceability']\n",
    "\n",
    "\n",
    "# Drop 'release_date' and 'collab' because, it is not used in the project\n",
    "clean_df.drop(['release_date', 'collab',], axis=1, inplace=True)\n",
    "\n",
    "# Save the engineered dataset to SpotifyDataEngineer.xlsx, which is the newest dataset to work with in iteration 2 \n",
    "\n",
    "clean_df.to_excel('SpotifyDataEngineer.xlsx', index=False)\n"
   ]
  }
 ],
 "metadata": {
  "kernelspec": {
   "display_name": "base",
   "language": "python",
   "name": "python3"
  },
  "language_info": {
   "codemirror_mode": {
    "name": "ipython",
    "version": 3
   },
   "file_extension": ".py",
   "mimetype": "text/x-python",
   "name": "python",
   "nbconvert_exporter": "python",
   "pygments_lexer": "ipython3",
   "version": "3.11.4"
  }
 },
 "nbformat": 4,
 "nbformat_minor": 2
}
