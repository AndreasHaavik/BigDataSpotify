{
 "cells": [
  {
   "cell_type": "markdown",
   "metadata": {},
   "source": [
    "In the code below, we remove outliers, which we use in the iteration 3"
   ]
  },
  {
   "cell_type": "code",
   "execution_count": null,
   "metadata": {},
   "outputs": [],
   "source": [
    "#Feature engineering - iteration 2 - remove outliers\n",
    "\n",
    "import pandas as pd\n",
    "import numpy as np\n",
    "from scipy import stats\n",
    "\n",
    "# Load the dataset again\n",
    "file_path = './SpotifyDataEngineer.xlsx'\n",
    "it3_data = pd.read_excel(file_path)\n",
    "\n",
    "# Considering 'streams' as the target variable for outlier detection\n",
    "target_variable = 'streams'\n",
    "\n",
    "# Detecting outliers in the target variable using Z-scores\n",
    "z_scores = np.abs(stats.zscore(it3_data[target_variable]))\n",
    "\n",
    "# Define a threshold for identifying outliers (commonly a Z-score of 3 or more is considered as an outlier)\n",
    "threshold = 3\n",
    "outlier_indices = np.where(z_scores > threshold)\n",
    "\n",
    "# Removing the outliers from the dataset\n",
    "it3_data_cleaned = it3_data.drop(outlier_indices[0])\n",
    "\n",
    "# Shape of the data before and after outlier removal\n",
    "data_shape_before = it3_data.shape\n",
    "data_shape_after = it3_data_cleaned.shape\n",
    "\n",
    "data_shape_before, data_shape_after\n"
   ]
  },
  {
   "cell_type": "code",
   "execution_count": null,
   "metadata": {},
   "outputs": [],
   "source": [
    "#create new excel file without outliers\n",
    "it3_data_cleaned.to_excel('SpotifyDataIt3.xlsx', index=False)"
   ]
  }
 ],
 "metadata": {
  "language_info": {
   "name": "python"
  }
 },
 "nbformat": 4,
 "nbformat_minor": 2
}
