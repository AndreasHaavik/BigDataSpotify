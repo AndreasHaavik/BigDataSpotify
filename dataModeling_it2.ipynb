{
 "cells": [
  {
   "cell_type": "code",
   "execution_count": null,
   "metadata": {},
   "outputs": [],
   "source": [
    "#Importing relevant libraries for the further programming. \n",
    "import numpy as np\n",
    "import pandas as pd\n",
    "from sklearn.model_selection import train_test_split\n",
    "\n",
    "#Read Dataset\n",
    "cleaned_df = pd.read_excel('SpotifyDataEngineer.xlsx')\n",
    "\n",
    "\n",
    "# Print column names to inspect\n",
    "cleaned_df\n"
   ]
  },
  {
   "cell_type": "markdown",
   "metadata": {},
   "source": [
    "Strangely, a duplicated column was created and therefore had to be removed and was named \"Unnamed\""
   ]
  },
  {
   "cell_type": "code",
   "execution_count": 50,
   "metadata": {},
   "outputs": [],
   "source": [
    "#Remove columns \"unnamed\"\n",
    "\n",
    "unnamed_columns = [col for col in cleaned_df.columns if 'Unnamed' in col]\n",
    "cleaned_df.drop(columns=unnamed_columns, inplace=True)"
   ]
  },
  {
   "cell_type": "code",
   "execution_count": 51,
   "metadata": {},
   "outputs": [],
   "source": [
    "#Save the changes in the newest dataset \n",
    "\n",
    "cleaned_df.to_excel('SpotifyDataEngineer.xlsx')\n",
    "\n"
   ]
  },
  {
   "cell_type": "code",
   "execution_count": null,
   "metadata": {},
   "outputs": [],
   "source": [
    "#Once again check if everything look normal, then after continue modelling.\n",
    "print(cleaned_df.columns)"
   ]
  },
  {
   "cell_type": "markdown",
   "metadata": {},
   "source": [
    "In the code below, we initiate the training of DecisionTreeRegressor (DT), split the data into training and test and then test the model with the test set "
   ]
  },
  {
   "cell_type": "code",
   "execution_count": 53,
   "metadata": {},
   "outputs": [
    {
     "name": "stdout",
     "output_type": "stream",
     "text": [
      "Mean Squared Error: 2.6751889624311544e+16\n",
      "Root Mean Squared Error: 163560048.98602697\n",
      "R-squared: 0.15003230991604688\n"
     ]
    }
   ],
   "source": [
    "from sklearn.model_selection import train_test_split\n",
    "from sklearn.tree import DecisionTreeRegressor\n",
    "from sklearn.metrics import mean_squared_error, r2_score\n",
    "\n",
    "\n",
    "# Selecting relevant columns for the model\n",
    "# 'streams' is the target variable and excluding highly categorical columns for simplicity\n",
    "relevant_columns = ['artists_num', 'album_num_tracks', 'peak_rank', 'weeks_on_chart','streams', 'danceability', 'energy', 'key', 'speechiness', 'acousticness', 'instrumentalness', 'liveness', 'valence', 'tempo','duration', 'release_year', 'release_month', 'release_day',\n",
    "'release_dayofweek', 'loudness_log', 'energy_danceability_interaction',]\n",
    "data_for_model = cleaned_df[relevant_columns]\n",
    "\n",
    "\n",
    "# Splitting the data into training and testing sets\n",
    "X = data_for_model.drop('streams', axis=1)\n",
    "y = data_for_model['streams']\n",
    "\n",
    "# Test size is 30% and training are 70%\n",
    "X_train, X_test, y_train, y_test = train_test_split(X, y, test_size=0.3, random_state=42)\n",
    "\n",
    "# Initializing and training the Decision Tree Regressor and adjusting model complexity\n",
    "# Models complexity have been selected based on several tries, and what performed the \"best\".\n",
    "dt_regressor = DecisionTreeRegressor(max_depth=15, min_samples_split=75, min_samples_leaf=25, random_state=0)\n",
    "\n",
    "#Fitting the modl\n",
    "dt_regressor.fit(X_train, y_train)\n",
    "\n",
    "# Predicting and evaluating the model\n",
    "y_pred = dt_regressor.predict(X_test)\n",
    "\n",
    "#Calculating MSE, RMSE and R-squared \n",
    "mse = mean_squared_error(y_test, y_pred)\n",
    "rmse = np.sqrt(mse) \n",
    "r2 = r2_score(y_test, y_pred)\n",
    "\n",
    "# Returning the evaluation metrics\n",
    "print(\"Mean Squared Error:\", mse)\n",
    "print(\"Root Mean Squared Error:\", rmse)\n",
    "print(\"R-squared:\", r2)"
   ]
  },
  {
   "cell_type": "markdown",
   "metadata": {},
   "source": [
    "Lets look at Random Forrest Regressor"
   ]
  },
  {
   "cell_type": "markdown",
   "metadata": {},
   "source": [
    "We wanna do the same approach as above but for the random forrest regression model. We are training the model on the training set, and evaluating the performance"
   ]
  },
  {
   "cell_type": "code",
   "execution_count": 43,
   "metadata": {},
   "outputs": [
    {
     "name": "stdout",
     "output_type": "stream",
     "text": [
      "Mean Squared Error: 2.326696626405144e+16\n",
      "Root Mean Squared Error: 152535131.24540013\n",
      "R-squared: 0.2607561615855013\n"
     ]
    }
   ],
   "source": [
    "import pandas as pd\n",
    "from sklearn.ensemble import RandomForestRegressor\n",
    "\n",
    "# Initializing and training the Random Forrest Regressor and adjusting model complexity\n",
    "# Models complexity have been selected based on several tries, and what performed the \"best\".\n",
    "rf_regressor = RandomForestRegressor(max_depth=10, min_samples_split=60, min_samples_leaf=15, random_state=0)\n",
    "\n",
    "#Fitting the model\n",
    "rf_regressor.fit(X_train, y_train)\n",
    "\n",
    "# Predicting and evaluating the model\n",
    "y_pred = rf_regressor.predict(X_test)\n",
    "mse = mean_squared_error(y_test, y_pred)\n",
    "rmse = np.sqrt(mse) \n",
    "r2 = r2_score(y_test, y_pred)\n",
    "\n",
    "# Returning the evaluation metrics\n",
    "print(\"Mean Squared Error:\", mse)\n",
    "print(\"Root Mean Squared Error:\", rmse)\n",
    "print(\"R-squared:\", r2)\n"
   ]
  },
  {
   "cell_type": "markdown",
   "metadata": {},
   "source": [
    "Now we wanna try further machine learning modelling, where the focus is on linear regression"
   ]
  },
  {
   "cell_type": "code",
   "execution_count": 54,
   "metadata": {},
   "outputs": [
    {
     "data": {
      "text/plain": [
       "(2.913998291284818e+16, 170704372.8580149, 0.07415721605658965)"
      ]
     },
     "execution_count": 54,
     "metadata": {},
     "output_type": "execute_result"
    }
   ],
   "source": [
    "#Importing necessary libraries and loading the dataset\n",
    "from sklearn.linear_model import LinearRegression\n",
    "from sklearn.metrics import mean_squared_error, r2_score\n",
    "\n",
    "# Initialize the Linear Regression model\n",
    "linear_model = LinearRegression()\n",
    "\n",
    "# Training the model\n",
    "linear_model.fit(X_train, y_train)\n",
    "\n",
    "# Predicting the test set results\n",
    "y_pred_linear = linear_model.predict(X_test)\n",
    "\n",
    "# Evaluating the model\n",
    "mse_linear = mean_squared_error(y_test, y_pred_linear)\n",
    "rmse_linear = np.sqrt(mse_linear)\n",
    "r2_linear = r2_score(y_test, y_pred_linear)\n",
    "\n",
    "# Returning the evaluation metrics\n",
    "print(f'MSE (linear): {mse_linear}, RMSE (linear): {rmse_linear}, R-squared (linear): {r2_linear}')"
   ]
  },
  {
   "cell_type": "markdown",
   "metadata": {},
   "source": [
    "Once again, we wanna try to optimize the linear regression model by using L1"
   ]
  },
  {
   "cell_type": "code",
   "execution_count": 55,
   "metadata": {},
   "outputs": [
    {
     "name": "stdout",
     "output_type": "stream",
     "text": [
      "MSE (Lasso): 2.913998307765096e+16, RMSE (Lasso): 170704373.3407289, R-squared (Lasso): 0.0741572108204348\n"
     ]
    }
   ],
   "source": [
    "#Importing relevant libraries \n",
    "from sklearn.linear_model import Lasso\n",
    "from sklearn.metrics import mean_squared_error, r2_score\n",
    "from sklearn.linear_model import LassoCV\n",
    "\n",
    "# Start by finding the best alpha for the L1 regression to optimize the model\n",
    "# Setting up a range of alpha values to test\n",
    "alphas = np.logspace(-4, 0.01, 10)\n",
    "\n",
    "# Initialize and train the LassoCV model to find the best alpha\n",
    "lasso_cv_model = LassoCV(alphas=alphas, cv=5, random_state=42)\n",
    "lasso_cv_model.fit(X_train, y_train)\n",
    "\n",
    "# Optimal alpha found by LassoCV\n",
    "optimal_alpha = lasso_cv_model.alpha_\n",
    "\n",
    "# Initialize the Lasso regression model (L1 regularization)\n",
    "# Setting alpha to a small value like 0.01 for a start. This can be tuned further.\n",
    "lasso_model = Lasso(alpha=optimal_alpha, random_state=30)\n",
    "\n",
    "# Training the Lasso regression model\n",
    "lasso_model.fit(X_train, y_train)\n",
    "\n",
    "# Predicting the test set results\n",
    "y_pred_lasso = lasso_model.predict(X_test)\n",
    "\n",
    "# Evaluating the model\n",
    "mse_lasso = mean_squared_error(y_test, y_pred_lasso)\n",
    "rmse_lasso = np.sqrt(mse_lasso)\n",
    "r2_lasso = r2_score(y_test, y_pred_lasso)\n",
    "\n",
    "print(f'MSE (Lasso): {mse_lasso}, RMSE (Lasso): {rmse_lasso}, R-squared (Lasso): {r2_lasso}')"
   ]
  },
  {
   "cell_type": "markdown",
   "metadata": {},
   "source": [
    "Now lets try to use another model for testing the results. In the section below, the gradient tree boosting model is trained and tested. "
   ]
  },
  {
   "cell_type": "code",
   "execution_count": 56,
   "metadata": {},
   "outputs": [
    {
     "name": "stdout",
     "output_type": "stream",
     "text": [
      "MSE (gbr): 2.3596686779074388e+16, RMSE (gbr): 153612130.9632621, R-squared (gbr): 0.2502801993838384\n"
     ]
    }
   ],
   "source": [
    "#Here we create a gradient tree boosting and important relevant libraries\n",
    "from sklearn.ensemble import GradientBoostingRegressor\n",
    "from sklearn.metrics import mean_squared_error, r2_score\n",
    "\n",
    "\n",
    "# Initialize and train the Gradient Boosting Regressor\n",
    "gbr_model = GradientBoostingRegressor(n_estimators=100, learning_rate=0.1, max_depth=3, random_state=42)\n",
    "gbr_model.fit(X_train, y_train)\n",
    "\n",
    "# Predicting and evaluating the model\n",
    "y_pred_gbr = gbr_model.predict(X_test)\n",
    "mse_gbr = mean_squared_error(y_test, y_pred_gbr)\n",
    "rmse_gbr = np.sqrt(mse_gbr)\n",
    "r2_gbr = r2_score(y_test, y_pred_gbr)\n",
    "\n",
    "# Returning the evaluation metrics\n",
    "print(f'MSE (gbr): {mse_gbr}, RMSE (gbr): {rmse_gbr}, R-squared (gbr): {r2_gbr}')"
   ]
  },
  {
   "cell_type": "markdown",
   "metadata": {},
   "source": [
    "Final in iteration 2, lets have a look at XGBoostRegressor to compare the difference performance between Gradient Booster "
   ]
  },
  {
   "cell_type": "code",
   "execution_count": 59,
   "metadata": {},
   "outputs": [
    {
     "name": "stdout",
     "output_type": "stream",
     "text": [
      "MSE (xgb): 2.3496765207927756e+16, RMSE (xgb): 153286546.07605898, R-squared (xgb): 0.2534549323918528\n"
     ]
    }
   ],
   "source": [
    "#Implementing a XGBoost model\n",
    "import xgboost as xgb\n",
    "\n",
    "# Initialize and train the XGBoost Regressor\n",
    "xgb_model = xgb.XGBRegressor(objective='reg:squarederror', n_estimators=100, learning_rate=0.1, max_depth=3, random_state=42)\n",
    "xgb_model.fit(X_train, y_train)\n",
    "\n",
    "# Predicting and evaluating the model\n",
    "y_pred_xgb = xgb_model.predict(X_test)\n",
    "mse_xgb = mean_squared_error(y_test, y_pred_xgb)\n",
    "rmse_xgb = np.sqrt(mse_xgb)\n",
    "r2_xgb = r2_score(y_test, y_pred_xgb)\n",
    "\n",
    "# Returning the evaluation metrics\n",
    "print(f'MSE (xgb): {mse_xgb}, RMSE (xgb): {rmse_xgb}, R-squared (xgb): {r2_xgb}')"
   ]
  }
 ],
 "metadata": {
  "kernelspec": {
   "display_name": "base",
   "language": "python",
   "name": "python3"
  },
  "language_info": {
   "codemirror_mode": {
    "name": "ipython",
    "version": 3
   },
   "file_extension": ".py",
   "mimetype": "text/x-python",
   "name": "python",
   "nbconvert_exporter": "python",
   "pygments_lexer": "ipython3",
   "version": "3.11.4"
  }
 },
 "nbformat": 4,
 "nbformat_minor": 2
}
