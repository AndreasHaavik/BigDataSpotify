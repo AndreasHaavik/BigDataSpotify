{
 "cells": [
  {
   "cell_type": "code",
   "execution_count": 6,
   "metadata": {},
   "outputs": [],
   "source": [
    "import pandas as pd\n",
    "import numpy as np\n",
    "\n",
    "clean_df = pd.read_excel('./SpotifyDataCleaned.xlsx')\n",
    "\n",
    "# Feature Engineering\n",
    "\n",
    "# 1. Date and Time Features from 'release_date'\n",
    "clean_df['release_date'] = pd.to_datetime(clean_df['release_date'])\n",
    "clean_df['release_year'] = clean_df['release_date'].dt.year\n",
    "clean_df['release_month'] = clean_df['release_date'].dt.month\n",
    "clean_df['release_day'] = clean_df['release_date'].dt.day\n",
    "clean_df['release_dayofweek'] = clean_df['release_date'].dt.dayofweek\n",
    "\n",
    "\n",
    "# 2. Numerical Feature Transformation\n",
    "# Example: Log transformation of 'loudness' (ensure no zero or negative values before transformation)\n",
    "clean_df['loudness_log'] = np.log(clean_df['loudness'] - clean_df['loudness'].min() + 1)\n",
    "\n",
    "# 3. Interaction Features\n",
    "# Example: Interaction between 'energy' and 'danceability'\n",
    "clean_df['energy_danceability_interaction'] = clean_df['energy'] * clean_df['danceability']\n",
    "\n",
    "\n",
    "# Drop 'release_date' and 'collab' and, it is not used in the project\n",
    "clean_df.drop(['release_date', 'collab',], axis=1, inplace=True)\n",
    "\n",
    "# Save the engineered dataset\n",
    "\n",
    "clean_df.to_excel('SpotifyDataEngineer.xlsx', index=False)\n"
   ]
  }
 ],
 "metadata": {
  "kernelspec": {
   "display_name": "base",
   "language": "python",
   "name": "python3"
  },
  "language_info": {
   "codemirror_mode": {
    "name": "ipython",
    "version": 3
   },
   "file_extension": ".py",
   "mimetype": "text/x-python",
   "name": "python",
   "nbconvert_exporter": "python",
   "pygments_lexer": "ipython3",
   "version": "3.11.4"
  }
 },
 "nbformat": 4,
 "nbformat_minor": 2
}
